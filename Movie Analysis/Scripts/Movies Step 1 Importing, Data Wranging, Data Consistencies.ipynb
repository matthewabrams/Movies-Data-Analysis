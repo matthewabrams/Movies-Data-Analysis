{
 "cells": [
  {
   "cell_type": "markdown",
   "id": "e627191b",
   "metadata": {},
   "source": [
    "### 1. Importing Libraries and dataframe"
   ]
  },
  {
   "cell_type": "code",
   "execution_count": 1,
   "id": "89cb8b2d",
   "metadata": {},
   "outputs": [],
   "source": [
    "# Importing libraries\n",
    "\n",
    "import pandas as pd\n",
    "import numpy as np\n",
    "import os\n",
    "import matplotlib.pyplot as plt \n",
    "import seaborn as sns"
   ]
  },
  {
   "cell_type": "code",
   "execution_count": 2,
   "id": "2a7e73cf",
   "metadata": {},
   "outputs": [
    {
     "data": {
      "text/html": [
       "<div>\n",
       "<style scoped>\n",
       "    .dataframe tbody tr th:only-of-type {\n",
       "        vertical-align: middle;\n",
       "    }\n",
       "\n",
       "    .dataframe tbody tr th {\n",
       "        vertical-align: top;\n",
       "    }\n",
       "\n",
       "    .dataframe thead th {\n",
       "        text-align: right;\n",
       "    }\n",
       "</style>\n",
       "<table border=\"1\" class=\"dataframe\">\n",
       "  <thead>\n",
       "    <tr style=\"text-align: right;\">\n",
       "      <th></th>\n",
       "      <th>name</th>\n",
       "      <th>rating</th>\n",
       "      <th>genre</th>\n",
       "      <th>year</th>\n",
       "      <th>released</th>\n",
       "      <th>score</th>\n",
       "      <th>votes</th>\n",
       "      <th>director</th>\n",
       "      <th>writer</th>\n",
       "      <th>star</th>\n",
       "      <th>country</th>\n",
       "      <th>budget</th>\n",
       "      <th>gross</th>\n",
       "      <th>company</th>\n",
       "      <th>runtime</th>\n",
       "    </tr>\n",
       "  </thead>\n",
       "  <tbody>\n",
       "    <tr>\n",
       "      <th>0</th>\n",
       "      <td>The Shining</td>\n",
       "      <td>R</td>\n",
       "      <td>Drama</td>\n",
       "      <td>1980</td>\n",
       "      <td>June 13, 1980 (United States)</td>\n",
       "      <td>8.4</td>\n",
       "      <td>927000.0</td>\n",
       "      <td>Stanley Kubrick</td>\n",
       "      <td>Stephen King</td>\n",
       "      <td>Jack Nicholson</td>\n",
       "      <td>United Kingdom</td>\n",
       "      <td>19000000.0</td>\n",
       "      <td>46998772.0</td>\n",
       "      <td>Warner Bros.</td>\n",
       "      <td>146.0</td>\n",
       "    </tr>\n",
       "    <tr>\n",
       "      <th>1</th>\n",
       "      <td>The Blue Lagoon</td>\n",
       "      <td>R</td>\n",
       "      <td>Adventure</td>\n",
       "      <td>1980</td>\n",
       "      <td>July 2, 1980 (United States)</td>\n",
       "      <td>5.8</td>\n",
       "      <td>65000.0</td>\n",
       "      <td>Randal Kleiser</td>\n",
       "      <td>Henry De Vere Stacpoole</td>\n",
       "      <td>Brooke Shields</td>\n",
       "      <td>United States</td>\n",
       "      <td>4500000.0</td>\n",
       "      <td>58853106.0</td>\n",
       "      <td>Columbia Pictures</td>\n",
       "      <td>104.0</td>\n",
       "    </tr>\n",
       "    <tr>\n",
       "      <th>2</th>\n",
       "      <td>Star Wars: Episode V - The Empire Strikes Back</td>\n",
       "      <td>PG</td>\n",
       "      <td>Action</td>\n",
       "      <td>1980</td>\n",
       "      <td>June 20, 1980 (United States)</td>\n",
       "      <td>8.7</td>\n",
       "      <td>1200000.0</td>\n",
       "      <td>Irvin Kershner</td>\n",
       "      <td>Leigh Brackett</td>\n",
       "      <td>Mark Hamill</td>\n",
       "      <td>United States</td>\n",
       "      <td>18000000.0</td>\n",
       "      <td>538375067.0</td>\n",
       "      <td>Lucasfilm</td>\n",
       "      <td>124.0</td>\n",
       "    </tr>\n",
       "    <tr>\n",
       "      <th>3</th>\n",
       "      <td>Airplane!</td>\n",
       "      <td>PG</td>\n",
       "      <td>Comedy</td>\n",
       "      <td>1980</td>\n",
       "      <td>July 2, 1980 (United States)</td>\n",
       "      <td>7.7</td>\n",
       "      <td>221000.0</td>\n",
       "      <td>Jim Abrahams</td>\n",
       "      <td>Jim Abrahams</td>\n",
       "      <td>Robert Hays</td>\n",
       "      <td>United States</td>\n",
       "      <td>3500000.0</td>\n",
       "      <td>83453539.0</td>\n",
       "      <td>Paramount Pictures</td>\n",
       "      <td>88.0</td>\n",
       "    </tr>\n",
       "    <tr>\n",
       "      <th>4</th>\n",
       "      <td>Caddyshack</td>\n",
       "      <td>R</td>\n",
       "      <td>Comedy</td>\n",
       "      <td>1980</td>\n",
       "      <td>July 25, 1980 (United States)</td>\n",
       "      <td>7.3</td>\n",
       "      <td>108000.0</td>\n",
       "      <td>Harold Ramis</td>\n",
       "      <td>Brian Doyle-Murray</td>\n",
       "      <td>Chevy Chase</td>\n",
       "      <td>United States</td>\n",
       "      <td>6000000.0</td>\n",
       "      <td>39846344.0</td>\n",
       "      <td>Orion Pictures</td>\n",
       "      <td>98.0</td>\n",
       "    </tr>\n",
       "    <tr>\n",
       "      <th>...</th>\n",
       "      <td>...</td>\n",
       "      <td>...</td>\n",
       "      <td>...</td>\n",
       "      <td>...</td>\n",
       "      <td>...</td>\n",
       "      <td>...</td>\n",
       "      <td>...</td>\n",
       "      <td>...</td>\n",
       "      <td>...</td>\n",
       "      <td>...</td>\n",
       "      <td>...</td>\n",
       "      <td>...</td>\n",
       "      <td>...</td>\n",
       "      <td>...</td>\n",
       "      <td>...</td>\n",
       "    </tr>\n",
       "    <tr>\n",
       "      <th>7663</th>\n",
       "      <td>More to Life</td>\n",
       "      <td>NaN</td>\n",
       "      <td>Drama</td>\n",
       "      <td>2020</td>\n",
       "      <td>October 23, 2020 (United States)</td>\n",
       "      <td>3.1</td>\n",
       "      <td>18.0</td>\n",
       "      <td>Joseph Ebanks</td>\n",
       "      <td>Joseph Ebanks</td>\n",
       "      <td>Shannon Bond</td>\n",
       "      <td>United States</td>\n",
       "      <td>7000.0</td>\n",
       "      <td>NaN</td>\n",
       "      <td>NaN</td>\n",
       "      <td>90.0</td>\n",
       "    </tr>\n",
       "    <tr>\n",
       "      <th>7664</th>\n",
       "      <td>Dream Round</td>\n",
       "      <td>NaN</td>\n",
       "      <td>Comedy</td>\n",
       "      <td>2020</td>\n",
       "      <td>February 7, 2020 (United States)</td>\n",
       "      <td>4.7</td>\n",
       "      <td>36.0</td>\n",
       "      <td>Dusty Dukatz</td>\n",
       "      <td>Lisa Huston</td>\n",
       "      <td>Michael Saquella</td>\n",
       "      <td>United States</td>\n",
       "      <td>NaN</td>\n",
       "      <td>NaN</td>\n",
       "      <td>Cactus Blue Entertainment</td>\n",
       "      <td>90.0</td>\n",
       "    </tr>\n",
       "    <tr>\n",
       "      <th>7665</th>\n",
       "      <td>Saving Mbango</td>\n",
       "      <td>NaN</td>\n",
       "      <td>Drama</td>\n",
       "      <td>2020</td>\n",
       "      <td>April 27, 2020 (Cameroon)</td>\n",
       "      <td>5.7</td>\n",
       "      <td>29.0</td>\n",
       "      <td>Nkanya Nkwai</td>\n",
       "      <td>Lynno Lovert</td>\n",
       "      <td>Onyama Laura</td>\n",
       "      <td>United States</td>\n",
       "      <td>58750.0</td>\n",
       "      <td>NaN</td>\n",
       "      <td>Embi Productions</td>\n",
       "      <td>NaN</td>\n",
       "    </tr>\n",
       "    <tr>\n",
       "      <th>7666</th>\n",
       "      <td>It's Just Us</td>\n",
       "      <td>NaN</td>\n",
       "      <td>Drama</td>\n",
       "      <td>2020</td>\n",
       "      <td>October 1, 2020 (United States)</td>\n",
       "      <td>NaN</td>\n",
       "      <td>NaN</td>\n",
       "      <td>James Randall</td>\n",
       "      <td>James Randall</td>\n",
       "      <td>Christina Roz</td>\n",
       "      <td>United States</td>\n",
       "      <td>15000.0</td>\n",
       "      <td>NaN</td>\n",
       "      <td>NaN</td>\n",
       "      <td>120.0</td>\n",
       "    </tr>\n",
       "    <tr>\n",
       "      <th>7667</th>\n",
       "      <td>Tee em el</td>\n",
       "      <td>NaN</td>\n",
       "      <td>Horror</td>\n",
       "      <td>2020</td>\n",
       "      <td>August 19, 2020 (United States)</td>\n",
       "      <td>5.7</td>\n",
       "      <td>7.0</td>\n",
       "      <td>Pereko Mosia</td>\n",
       "      <td>Pereko Mosia</td>\n",
       "      <td>Siyabonga Mabaso</td>\n",
       "      <td>South Africa</td>\n",
       "      <td>NaN</td>\n",
       "      <td>NaN</td>\n",
       "      <td>PK 65 Films</td>\n",
       "      <td>102.0</td>\n",
       "    </tr>\n",
       "  </tbody>\n",
       "</table>\n",
       "<p>7668 rows × 15 columns</p>\n",
       "</div>"
      ],
      "text/plain": [
       "                                                name rating      genre  year  \\\n",
       "0                                        The Shining      R      Drama  1980   \n",
       "1                                    The Blue Lagoon      R  Adventure  1980   \n",
       "2     Star Wars: Episode V - The Empire Strikes Back     PG     Action  1980   \n",
       "3                                          Airplane!     PG     Comedy  1980   \n",
       "4                                         Caddyshack      R     Comedy  1980   \n",
       "...                                              ...    ...        ...   ...   \n",
       "7663                                    More to Life    NaN      Drama  2020   \n",
       "7664                                     Dream Round    NaN     Comedy  2020   \n",
       "7665                                   Saving Mbango    NaN      Drama  2020   \n",
       "7666                                    It's Just Us    NaN      Drama  2020   \n",
       "7667                                       Tee em el    NaN     Horror  2020   \n",
       "\n",
       "                              released  score      votes         director  \\\n",
       "0        June 13, 1980 (United States)    8.4   927000.0  Stanley Kubrick   \n",
       "1         July 2, 1980 (United States)    5.8    65000.0   Randal Kleiser   \n",
       "2        June 20, 1980 (United States)    8.7  1200000.0   Irvin Kershner   \n",
       "3         July 2, 1980 (United States)    7.7   221000.0     Jim Abrahams   \n",
       "4        July 25, 1980 (United States)    7.3   108000.0     Harold Ramis   \n",
       "...                                ...    ...        ...              ...   \n",
       "7663  October 23, 2020 (United States)    3.1       18.0    Joseph Ebanks   \n",
       "7664  February 7, 2020 (United States)    4.7       36.0     Dusty Dukatz   \n",
       "7665         April 27, 2020 (Cameroon)    5.7       29.0     Nkanya Nkwai   \n",
       "7666   October 1, 2020 (United States)    NaN        NaN    James Randall   \n",
       "7667   August 19, 2020 (United States)    5.7        7.0     Pereko Mosia   \n",
       "\n",
       "                       writer              star         country      budget  \\\n",
       "0                Stephen King    Jack Nicholson  United Kingdom  19000000.0   \n",
       "1     Henry De Vere Stacpoole    Brooke Shields   United States   4500000.0   \n",
       "2              Leigh Brackett       Mark Hamill   United States  18000000.0   \n",
       "3                Jim Abrahams       Robert Hays   United States   3500000.0   \n",
       "4          Brian Doyle-Murray       Chevy Chase   United States   6000000.0   \n",
       "...                       ...               ...             ...         ...   \n",
       "7663            Joseph Ebanks      Shannon Bond   United States      7000.0   \n",
       "7664              Lisa Huston  Michael Saquella   United States         NaN   \n",
       "7665             Lynno Lovert      Onyama Laura   United States     58750.0   \n",
       "7666            James Randall     Christina Roz   United States     15000.0   \n",
       "7667             Pereko Mosia  Siyabonga Mabaso    South Africa         NaN   \n",
       "\n",
       "            gross                    company  runtime  \n",
       "0      46998772.0               Warner Bros.    146.0  \n",
       "1      58853106.0          Columbia Pictures    104.0  \n",
       "2     538375067.0                  Lucasfilm    124.0  \n",
       "3      83453539.0         Paramount Pictures     88.0  \n",
       "4      39846344.0             Orion Pictures     98.0  \n",
       "...           ...                        ...      ...  \n",
       "7663          NaN                        NaN     90.0  \n",
       "7664          NaN  Cactus Blue Entertainment     90.0  \n",
       "7665          NaN           Embi Productions      NaN  \n",
       "7666          NaN                        NaN    120.0  \n",
       "7667          NaN                PK 65 Films    102.0  \n",
       "\n",
       "[7668 rows x 15 columns]"
      ]
     },
     "execution_count": 2,
     "metadata": {},
     "output_type": "execute_result"
    }
   ],
   "source": [
    "# Importing dataframe\n",
    "\n",
    "path = r'/Users/matthewabrams/Desktop/Movie Analysis'\n",
    "movies = pd.read_csv(os.path.join(path, 'Data', 'Original Data', 'movies.csv'), index_col = False)\n",
    "movies"
   ]
  },
  {
   "cell_type": "code",
   "execution_count": 3,
   "id": "538e1324",
   "metadata": {},
   "outputs": [
    {
     "data": {
      "text/plain": [
       "Index(['name', 'rating', 'genre', 'year', 'released', 'score', 'votes',\n",
       "       'director', 'writer', 'star', 'country', 'budget', 'gross', 'company',\n",
       "       'runtime'],\n",
       "      dtype='object')"
      ]
     },
     "execution_count": 3,
     "metadata": {},
     "output_type": "execute_result"
    }
   ],
   "source": [
    "# Getting columns of dataframe\n",
    "\n",
    "movies.columns"
   ]
  },
  {
   "cell_type": "code",
   "execution_count": 4,
   "id": "7ccbd740",
   "metadata": {},
   "outputs": [
    {
     "data": {
      "text/plain": [
       "name         object\n",
       "rating       object\n",
       "genre        object\n",
       "year          int64\n",
       "released     object\n",
       "score       float64\n",
       "votes       float64\n",
       "director     object\n",
       "writer       object\n",
       "star         object\n",
       "country      object\n",
       "budget      float64\n",
       "gross       float64\n",
       "company      object\n",
       "runtime     float64\n",
       "dtype: object"
      ]
     },
     "execution_count": 4,
     "metadata": {},
     "output_type": "execute_result"
    }
   ],
   "source": [
    "# Getting data type of each column\n",
    "\n",
    "movies.dtypes"
   ]
  },
  {
   "cell_type": "markdown",
   "id": "31de086a",
   "metadata": {},
   "source": [
    "### 2. Splitting, renaming, and removing columns "
   ]
  },
  {
   "cell_type": "code",
   "execution_count": 5,
   "id": "980729bd",
   "metadata": {},
   "outputs": [],
   "source": [
    "# Splitting release column into two columns: released date and country since we want to do a spatial and time series analysis \n",
    "\n",
    "movies[['released date', 'country']] = movies['released'].str.split('(', expand = True)"
   ]
  },
  {
   "cell_type": "code",
   "execution_count": 6,
   "id": "46b38e0c",
   "metadata": {},
   "outputs": [],
   "source": [
    "# Returning all string characters of values under country column except for last character ')' from each row \n",
    "# The country column now represents the location for release of film rather than origin.\n",
    "\n",
    "movies['country'] = movies['country'].str[:-1]"
   ]
  },
  {
   "cell_type": "code",
   "execution_count": 7,
   "id": "4626ae03",
   "metadata": {},
   "outputs": [],
   "source": [
    "# Removing released column (original column)\n",
    "\n",
    "movies.drop(columns = ['released'], inplace = True)"
   ]
  },
  {
   "cell_type": "code",
   "execution_count": 8,
   "id": "4ca89157",
   "metadata": {},
   "outputs": [],
   "source": [
    "# Renaming columns from score to IMDb score and from runtime to duration(in min)\n",
    "\n",
    "movies.rename(columns = {'score': 'IMDb score', 'runtime':'duration (in min)'}, inplace = True)"
   ]
  },
  {
   "cell_type": "markdown",
   "id": "4c83bd8a",
   "metadata": {},
   "source": [
    "### 3. Changing Data Types"
   ]
  },
  {
   "cell_type": "code",
   "execution_count": 9,
   "id": "8078dc51",
   "metadata": {},
   "outputs": [],
   "source": [
    "# Changing data type of released date from object to date time\n",
    "\n",
    "movies['released date'] = pd.to_datetime(movies['released date'])"
   ]
  },
  {
   "cell_type": "code",
   "execution_count": 10,
   "id": "6b50af8b",
   "metadata": {},
   "outputs": [
    {
     "data": {
      "text/plain": [
       "name                         object\n",
       "rating                       object\n",
       "genre                        object\n",
       "year                          int64\n",
       "IMDb score                  float64\n",
       "votes                       float64\n",
       "director                     object\n",
       "writer                       object\n",
       "star                         object\n",
       "country                      object\n",
       "budget                      float64\n",
       "gross                       float64\n",
       "company                      object\n",
       "duration (in min)           float64\n",
       "released date        datetime64[ns]\n",
       "dtype: object"
      ]
     },
     "execution_count": 10,
     "metadata": {},
     "output_type": "execute_result"
    }
   ],
   "source": [
    "# Checking\n",
    "\n",
    "movies.dtypes"
   ]
  },
  {
   "cell_type": "markdown",
   "id": "a7cb4057",
   "metadata": {},
   "source": [
    "### 4. Checking For Null Values"
   ]
  },
  {
   "cell_type": "code",
   "execution_count": 11,
   "id": "9ca09138",
   "metadata": {},
   "outputs": [
    {
     "data": {
      "text/plain": [
       "name                    0\n",
       "rating                 77\n",
       "genre                   0\n",
       "year                    0\n",
       "IMDb score              3\n",
       "votes                   3\n",
       "director                0\n",
       "writer                  3\n",
       "star                    1\n",
       "country                 2\n",
       "budget               2171\n",
       "gross                 189\n",
       "company                17\n",
       "duration (in min)       4\n",
       "released date           2\n",
       "dtype: int64"
      ]
     },
     "execution_count": 11,
     "metadata": {},
     "output_type": "execute_result"
    }
   ],
   "source": [
    "# Returning the number of empty values per column\n",
    "\n",
    "movies.isnull().sum()"
   ]
  },
  {
   "cell_type": "code",
   "execution_count": 12,
   "id": "14d60287",
   "metadata": {},
   "outputs": [
    {
     "data": {
      "text/plain": [
       "name                 0.0000\n",
       "rating               0.0100\n",
       "genre                0.0000\n",
       "year                 0.0000\n",
       "IMDb score           0.0004\n",
       "votes                0.0004\n",
       "director             0.0000\n",
       "writer               0.0004\n",
       "star                 0.0001\n",
       "country              0.0003\n",
       "budget               0.2831\n",
       "gross                0.0246\n",
       "company              0.0022\n",
       "duration (in min)    0.0005\n",
       "released date        0.0003\n",
       "dtype: float64"
      ]
     },
     "execution_count": 12,
     "metadata": {},
     "output_type": "execute_result"
    }
   ],
   "source": [
    "# Returning the percentage of empty values per column\n",
    "\n",
    "(movies.isnull().sum() / len(movies)).round(4)"
   ]
  },
  {
   "cell_type": "code",
   "execution_count": 13,
   "id": "971fc3ae",
   "metadata": {},
   "outputs": [
    {
     "data": {
      "text/plain": [
       "count    5.497000e+03\n",
       "mean     3.558988e+07\n",
       "std      4.145730e+07\n",
       "min      3.000000e+03\n",
       "25%      1.000000e+07\n",
       "50%      2.050000e+07\n",
       "75%      4.500000e+07\n",
       "max      3.560000e+08\n",
       "Name: budget, dtype: float64"
      ]
     },
     "execution_count": 13,
     "metadata": {},
     "output_type": "execute_result"
    }
   ],
   "source": [
    "# Statistical description of budget column\n",
    "\n",
    "movies['budget'].describe()"
   ]
  },
  {
   "cell_type": "code",
   "execution_count": 14,
   "id": "9f7237f6",
   "metadata": {},
   "outputs": [
    {
     "data": {
      "text/plain": [
       "<AxesSubplot:ylabel='Frequency'>"
      ]
     },
     "execution_count": 14,
     "metadata": {},
     "output_type": "execute_result"
    },
    {
     "data": {
      "image/png": "[encoded data removed]",
      "text/plain": [
       "<Figure size 432x288 with 1 Axes>"
      ]
     },
     "metadata": {
      "needs_background": "light"
     },
     "output_type": "display_data"
    }
   ],
   "source": [
    "# Histogram of values regarding budget column, distribution is skewed (right)\n",
    "\n",
    "movies['budget'].plot.hist()"
   ]
  },
  {
   "cell_type": "code",
   "execution_count": 15,
   "id": "50ac2d3a",
   "metadata": {},
   "outputs": [
    {
     "data": {
      "text/plain": [
       "20500000.0"
      ]
     },
     "execution_count": 15,
     "metadata": {},
     "output_type": "execute_result"
    }
   ],
   "source": [
    "movies['budget'].median()"
   ]
  },
  {
   "cell_type": "code",
   "execution_count": 16,
   "id": "9c3a851d",
   "metadata": {},
   "outputs": [],
   "source": [
    "# Imputing null values with median\n",
    "\n",
    "movies['budget'].fillna(movies['budget'].median(), inplace = True)"
   ]
  },
  {
   "cell_type": "code",
   "execution_count": 17,
   "id": "813cd00e",
   "metadata": {},
   "outputs": [
    {
     "data": {
      "text/plain": [
       "count    7.668000e+03\n",
       "mean     3.131756e+07\n",
       "std      3.575273e+07\n",
       "min      3.000000e+03\n",
       "25%      1.400000e+07\n",
       "50%      2.050000e+07\n",
       "75%      3.200000e+07\n",
       "max      3.560000e+08\n",
       "Name: budget, dtype: float64"
      ]
     },
     "execution_count": 17,
     "metadata": {},
     "output_type": "execute_result"
    }
   ],
   "source": [
    "movies['budget'].describe()"
   ]
  },
  {
   "cell_type": "code",
   "execution_count": 18,
   "id": "599f4c92",
   "metadata": {},
   "outputs": [
    {
     "data": {
      "text/plain": [
       "count    7.479000e+03\n",
       "mean     7.850054e+07\n",
       "std      1.657251e+08\n",
       "min      3.090000e+02\n",
       "25%      4.532056e+06\n",
       "50%      2.020576e+07\n",
       "75%      7.601669e+07\n",
       "max      2.847246e+09\n",
       "Name: gross, dtype: float64"
      ]
     },
     "execution_count": 18,
     "metadata": {},
     "output_type": "execute_result"
    }
   ],
   "source": [
    "# Statistical description of gross column\n",
    "\n",
    "movies['gross'].describe()"
   ]
  },
  {
   "cell_type": "code",
   "execution_count": 19,
   "id": "77f1e178",
   "metadata": {},
   "outputs": [
    {
     "data": {
      "text/plain": [
       "<AxesSubplot:ylabel='Frequency'>"
      ]
     },
     "execution_count": 19,
     "metadata": {},
     "output_type": "execute_result"
    },
    {
     "data": {
      "image/png": "[encoded data removed]",
      "text/plain": [
       "<Figure size 432x288 with 1 Axes>"
      ]
     },
     "metadata": {
      "needs_background": "light"
     },
     "output_type": "display_data"
    }
   ],
   "source": [
    "# Histogram of values regarding gross column, distribution is skewed (right)\n",
    "\n",
    "movies['gross'].plot.hist()"
   ]
  },
  {
   "cell_type": "code",
   "execution_count": 20,
   "id": "4efa0fb1",
   "metadata": {},
   "outputs": [
    {
     "data": {
      "text/plain": [
       "20205757.0"
      ]
     },
     "execution_count": 20,
     "metadata": {},
     "output_type": "execute_result"
    }
   ],
   "source": [
    "# Median value of gross values\n",
    "\n",
    "movies['gross'].median()"
   ]
  },
  {
   "cell_type": "code",
   "execution_count": 21,
   "id": "b962f82d",
   "metadata": {},
   "outputs": [],
   "source": [
    "# Imputing null values with median\n",
    "\n",
    "movies['gross'].fillna(movies['gross'].median(), inplace = True)"
   ]
  },
  {
   "cell_type": "code",
   "execution_count": 22,
   "id": "3a8e6765",
   "metadata": {},
   "outputs": [
    {
     "data": {
      "text/plain": [
       "count    7664.000000\n",
       "mean      107.261613\n",
       "std        18.581247\n",
       "min        55.000000\n",
       "25%        95.000000\n",
       "50%       104.000000\n",
       "75%       116.000000\n",
       "max       366.000000\n",
       "Name: duration (in min), dtype: float64"
      ]
     },
     "execution_count": 22,
     "metadata": {},
     "output_type": "execute_result"
    }
   ],
   "source": [
    "# Statistical description of runtime column\n",
    "\n",
    "movies['duration (in min)'].describe()"
   ]
  },
  {
   "cell_type": "code",
   "execution_count": 23,
   "id": "b661c95a",
   "metadata": {},
   "outputs": [
    {
     "data": {
      "text/plain": [
       "<AxesSubplot:ylabel='Frequency'>"
      ]
     },
     "execution_count": 23,
     "metadata": {},
     "output_type": "execute_result"
    },
    {
     "data": {
      "image/png": "[encoded data removed]",
      "text/plain": [
       "<Figure size 432x288 with 1 Axes>"
      ]
     },
     "metadata": {
      "needs_background": "light"
     },
     "output_type": "display_data"
    }
   ],
   "source": [
    "# Histogram of values regarding runtime column, distribution is skewed (right)\n",
    "\n",
    "movies['duration (in min)'].plot.hist()"
   ]
  },
  {
   "cell_type": "code",
   "execution_count": 24,
   "id": "e388764c",
   "metadata": {},
   "outputs": [
    {
     "data": {
      "text/plain": [
       "104.0"
      ]
     },
     "execution_count": 24,
     "metadata": {},
     "output_type": "execute_result"
    }
   ],
   "source": [
    "# Median value of gross values\n",
    "\n",
    "movies['duration (in min)'].median()"
   ]
  },
  {
   "cell_type": "code",
   "execution_count": 25,
   "id": "71351791",
   "metadata": {},
   "outputs": [],
   "source": [
    "# Imputing null values with median\n",
    "\n",
    "movies['duration (in min)'].fillna(movies['duration (in min)'].median(), inplace = True)"
   ]
  },
  {
   "cell_type": "code",
   "execution_count": 26,
   "id": "7afbefa4",
   "metadata": {},
   "outputs": [
    {
     "data": {
      "text/plain": [
       "count    7665.000000\n",
       "mean        6.390411\n",
       "std         0.968842\n",
       "min         1.900000\n",
       "25%         5.800000\n",
       "50%         6.500000\n",
       "75%         7.100000\n",
       "max         9.300000\n",
       "Name: IMDb score, dtype: float64"
      ]
     },
     "execution_count": 26,
     "metadata": {},
     "output_type": "execute_result"
    }
   ],
   "source": [
    "# Statistical description of votes column\n",
    "\n",
    "movies['IMDb score'].describe()"
   ]
  },
  {
   "cell_type": "code",
   "execution_count": 27,
   "id": "4815849c",
   "metadata": {},
   "outputs": [
    {
     "data": {
      "text/plain": [
       "<AxesSubplot:ylabel='Frequency'>"
      ]
     },
     "execution_count": 27,
     "metadata": {},
     "output_type": "execute_result"
    },
    {
     "data": {
      "image/png": "[encoded data removed]",
      "text/plain": [
       "<Figure size 432x288 with 1 Axes>"
      ]
     },
     "metadata": {
      "needs_background": "light"
     },
     "output_type": "display_data"
    }
   ],
   "source": [
    "# Histogram of values regarding score column, distribution is nearly symmetrical\n",
    "\n",
    "movies['IMDb score'].plot.hist()"
   ]
  },
  {
   "cell_type": "code",
   "execution_count": 28,
   "id": "ba8fdb69",
   "metadata": {},
   "outputs": [],
   "source": [
    "# Imputing null values with mean \n",
    "\n",
    "movies['IMDb score'].fillna(6.4, inplace = True)"
   ]
  },
  {
   "cell_type": "code",
   "execution_count": 29,
   "id": "078fddfd",
   "metadata": {},
   "outputs": [
    {
     "data": {
      "text/plain": [
       "count    7.665000e+03\n",
       "mean     8.810850e+04\n",
       "std      1.633238e+05\n",
       "min      7.000000e+00\n",
       "25%      9.100000e+03\n",
       "50%      3.300000e+04\n",
       "75%      9.300000e+04\n",
       "max      2.400000e+06\n",
       "Name: votes, dtype: float64"
      ]
     },
     "execution_count": 29,
     "metadata": {},
     "output_type": "execute_result"
    }
   ],
   "source": [
    "# Statistical description of votes column\n",
    "\n",
    "movies['votes'].describe()"
   ]
  },
  {
   "cell_type": "code",
   "execution_count": 30,
   "id": "1af3484f",
   "metadata": {},
   "outputs": [
    {
     "data": {
      "text/plain": [
       "<AxesSubplot:ylabel='Frequency'>"
      ]
     },
     "execution_count": 30,
     "metadata": {},
     "output_type": "execute_result"
    },
    {
     "data": {
      "image/png": "[encoded data removed]",
      "text/plain": [
       "<Figure size 432x288 with 1 Axes>"
      ]
     },
     "metadata": {
      "needs_background": "light"
     },
     "output_type": "display_data"
    }
   ],
   "source": [
    "# Histogram of values regarding score column, distribution is skewed (right)\n",
    "\n",
    "movies['votes'].plot.hist()"
   ]
  },
  {
   "cell_type": "code",
   "execution_count": 31,
   "id": "6eacaead",
   "metadata": {},
   "outputs": [
    {
     "data": {
      "text/plain": [
       "33000.0"
      ]
     },
     "execution_count": 31,
     "metadata": {},
     "output_type": "execute_result"
    }
   ],
   "source": [
    "# Median value of votes values\n",
    "\n",
    "movies['votes'].median()"
   ]
  },
  {
   "cell_type": "code",
   "execution_count": 32,
   "id": "14789aef",
   "metadata": {},
   "outputs": [],
   "source": [
    "# Imputing null values with median\n",
    "\n",
    "movies['votes'].fillna(movies['votes'].median(), inplace = True)"
   ]
  },
  {
   "cell_type": "code",
   "execution_count": 33,
   "id": "6a82e358",
   "metadata": {},
   "outputs": [],
   "source": [
    "# Creating flag columns for original categorical columns with null values \n",
    "# We don't want to impute values because the values there are strings\n",
    "# We also don't want to delete the Nan values since we want to include the observations in our analysis\n",
    "\n",
    "movies_clean = movies\n",
    "movies_clean['unknown rating'] = movies['rating'].isnull() == True\n",
    "movies_clean['unknown writer'] = movies['writer'].isnull() == True\n",
    "movies_clean['unknown star'] = movies['star'].isnull() == True\n",
    "movies_clean['unknown country'] = movies['country'].isnull() == True\n",
    "movies_clean['unknown company'] = movies['company'].isnull() == True\n",
    "movies_clean['unknown released date'] = movies['released date'].isnull() == True\n"
   ]
  },
  {
   "cell_type": "code",
   "execution_count": 34,
   "id": "9b872ced",
   "metadata": {},
   "outputs": [
    {
     "data": {
      "text/plain": [
       "name                      0\n",
       "rating                   77\n",
       "genre                     0\n",
       "year                      0\n",
       "IMDb score                0\n",
       "votes                     0\n",
       "director                  0\n",
       "writer                    3\n",
       "star                      1\n",
       "country                   2\n",
       "budget                    0\n",
       "gross                     0\n",
       "company                  17\n",
       "duration (in min)         0\n",
       "released date             2\n",
       "unknown rating            0\n",
       "unknown writer            0\n",
       "unknown star              0\n",
       "unknown country           0\n",
       "unknown company           0\n",
       "unknown released date     0\n",
       "dtype: int64"
      ]
     },
     "execution_count": 34,
     "metadata": {},
     "output_type": "execute_result"
    }
   ],
   "source": [
    "# After addressing null values, checking for sum of empty values for each column\n",
    "movies_clean.isnull().sum()"
   ]
  },
  {
   "cell_type": "markdown",
   "id": "3e05e4f6",
   "metadata": {},
   "source": [
    "### 5. Checking for inconsistant format"
   ]
  },
  {
   "cell_type": "code",
   "execution_count": 35,
   "id": "0afdcfe1",
   "metadata": {},
   "outputs": [
    {
     "data": {
      "text/plain": [
       "array(['R', 'PG', 'G', nan, 'Not Rated', 'NC-17', 'Approved', 'TV-PG',\n",
       "       'PG-13', 'Unrated', 'X', 'TV-MA', 'TV-14'], dtype=object)"
      ]
     },
     "execution_count": 35,
     "metadata": {},
     "output_type": "execute_result"
    }
   ],
   "source": [
    "# Returning unique values of rating column\n",
    "\n",
    "movies_clean['rating'].unique()"
   ]
  },
  {
   "cell_type": "code",
   "execution_count": 36,
   "id": "9357e121",
   "metadata": {},
   "outputs": [
    {
     "data": {
      "text/plain": [
       "array(['United States', 'Australia', 'Japan', 'Ireland', 'Argentina',\n",
       "       'Soviet Union', 'United Kingdom', 'Sweden', 'France', 'Canada',\n",
       "       'Brazil', 'South Korea', 'West Germany', 'Italy', 'Denmark',\n",
       "       'Netherlands', 'Uruguay', 'Hong Kong', 'Taiwan', 'Yugoslavia',\n",
       "       'Spain', 'Finland', 'South Africa', 'Philippines', 'Portugal',\n",
       "       'Mexico', 'Germany', 'New Zealand', 'Iran', 'Greece', 'Singapore',\n",
       "       'Poland', 'India', 'Federal Republic of Yugoslavia', 'Iceland',\n",
       "       'Belgium', 'Israel', 'Hungary', 'China', 'Russia', 'Norway',\n",
       "       'Austria', 'Thailand', 'Puerto Rico', 'Turkey', 'Romania',\n",
       "       'Czech Republic', 'Latvia', 'Indonesia', 'Bahrain', 'Kazakhstan',\n",
       "       nan, 'Malaysia', 'Croatia', 'Bulgaria', 'Lebanon',\n",
       "       'United Arab Emirates', 'Ukraine', 'Bahamas', 'Kuwait', 'Vietnam',\n",
       "       'Cameroon'], dtype=object)"
      ]
     },
     "execution_count": 36,
     "metadata": {},
     "output_type": "execute_result"
    }
   ],
   "source": [
    "# Returning unique values of country column\n",
    "\n",
    "movies_clean['country'].unique()"
   ]
  },
  {
   "cell_type": "code",
   "execution_count": 37,
   "id": "77d7ca8d",
   "metadata": {},
   "outputs": [],
   "source": [
    "# Renaming country names with more current names, will be of use for spatial analysis later\n",
    "\n",
    "movies['country'].replace({'Soviet Union':'Russia', 'West Germany':'Germany', \n",
    "                                               'Hong Kong':'China', 'Palestine':'Israel', 'Federal Republic of Yugoslavia':'Serbia',\n",
    "                                               'Yugoslavia':'Serbia', 'Bahamas':'The Bahamas'}, inplace = True)"
   ]
  },
  {
   "cell_type": "code",
   "execution_count": 38,
   "id": "656acf3a",
   "metadata": {},
   "outputs": [
    {
     "data": {
      "text/plain": [
       "array(['Warner Bros.', 'Columbia Pictures', 'Lucasfilm', ...,\n",
       "       'Dow Jazz Films', 'Embi Productions', 'PK 65 Films'], dtype=object)"
      ]
     },
     "execution_count": 38,
     "metadata": {},
     "output_type": "execute_result"
    }
   ],
   "source": [
    "# Returning unique values of company column, doesn't show all companies\n",
    "\n",
    "movies_clean['company'].unique()"
   ]
  },
  {
   "cell_type": "code",
   "execution_count": 39,
   "id": "072f22a1",
   "metadata": {},
   "outputs": [
    {
     "data": {
      "text/plain": [
       "array(['Drama', 'Adventure', 'Action', 'Comedy', 'Horror', 'Biography',\n",
       "       'Crime', 'Fantasy', 'Family', 'Sci-Fi', 'Animation', 'Romance',\n",
       "       'Music', 'Western', 'Thriller', 'History', 'Mystery', 'Sport',\n",
       "       'Musical'], dtype=object)"
      ]
     },
     "execution_count": 39,
     "metadata": {},
     "output_type": "execute_result"
    }
   ],
   "source": [
    "# Returning unique values of genre column\n",
    "\n",
    "movies_clean['genre'].unique()"
   ]
  },
  {
   "cell_type": "code",
   "execution_count": 40,
   "id": "47e9ad0a",
   "metadata": {},
   "outputs": [
    {
     "data": {
      "text/plain": [
       "array(['Stephen King', 'Henry De Vere Stacpoole', 'Leigh Brackett', ...,\n",
       "       'Lynno Lovert', 'James Randall', 'Pereko Mosia'], dtype=object)"
      ]
     },
     "execution_count": 40,
     "metadata": {},
     "output_type": "execute_result"
    }
   ],
   "source": [
    "# Returning unique values of company column doesn't show all writers\n",
    "\n",
    "movies_clean['writer'].unique()"
   ]
  },
  {
   "cell_type": "code",
   "execution_count": 41,
   "id": "69703443",
   "metadata": {},
   "outputs": [
    {
     "data": {
      "text/plain": [
       "array(['Stanley Kubrick', 'Randal Kleiser', 'Irvin Kershner', ...,\n",
       "       'Nkanya Nkwai', 'James Randall', 'Pereko Mosia'], dtype=object)"
      ]
     },
     "execution_count": 41,
     "metadata": {},
     "output_type": "execute_result"
    }
   ],
   "source": [
    "# Returning unique values of company column doesn't show all directors\n",
    "\n",
    "movies_clean['director'].unique()"
   ]
  },
  {
   "cell_type": "code",
   "execution_count": 42,
   "id": "4275f8f8",
   "metadata": {},
   "outputs": [
    {
     "data": {
      "text/plain": [
       "array(['Jack Nicholson', 'Brooke Shields', 'Mark Hamill', ...,\n",
       "       'Onyama Laura', 'Christina Roz', 'Siyabonga Mabaso'], dtype=object)"
      ]
     },
     "execution_count": 42,
     "metadata": {},
     "output_type": "execute_result"
    }
   ],
   "source": [
    "# Returning unique values of company column doesn't show all stars\n",
    "\n",
    "movies_clean['star'].unique()"
   ]
  },
  {
   "cell_type": "code",
   "execution_count": 43,
   "id": "e6aef4c3",
   "metadata": {},
   "outputs": [],
   "source": [
    "# Making sure the values for each column have no white space and the name for each value are properly cased so formatting is consistent\n",
    "\n",
    "movies_clean['director'] = movies_clean['director'].str.strip().str.title()\n",
    "movies_clean['writer'] = movies_clean['writer'].str.strip().str.title()\n",
    "movies_clean['star'] = movies_clean['star'].str.strip().str.title()\n",
    "movies_clean['country'] = movies_clean['country'].str.strip().str.title()\n",
    "movies_clean['genre'] = movies_clean['genre'].str.strip().str.title()\n",
    "movies_clean['company'] = movies_clean['company'].str.strip().str.title()"
   ]
  },
  {
   "cell_type": "markdown",
   "id": "11e7c8a9",
   "metadata": {},
   "source": [
    "### 6. Checking for Duplicates"
   ]
  },
  {
   "cell_type": "code",
   "execution_count": 44,
   "id": "303554a3",
   "metadata": {},
   "outputs": [
    {
     "data": {
      "text/html": [
       "<div>\n",
       "<style scoped>\n",
       "    .dataframe tbody tr th:only-of-type {\n",
       "        vertical-align: middle;\n",
       "    }\n",
       "\n",
       "    .dataframe tbody tr th {\n",
       "        vertical-align: top;\n",
       "    }\n",
       "\n",
       "    .dataframe thead th {\n",
       "        text-align: right;\n",
       "    }\n",
       "</style>\n",
       "<table border=\"1\" class=\"dataframe\">\n",
       "  <thead>\n",
       "    <tr style=\"text-align: right;\">\n",
       "      <th></th>\n",
       "      <th>name</th>\n",
       "      <th>rating</th>\n",
       "      <th>genre</th>\n",
       "      <th>year</th>\n",
       "      <th>IMDb score</th>\n",
       "      <th>votes</th>\n",
       "      <th>director</th>\n",
       "      <th>writer</th>\n",
       "      <th>star</th>\n",
       "      <th>country</th>\n",
       "      <th>...</th>\n",
       "      <th>gross</th>\n",
       "      <th>company</th>\n",
       "      <th>duration (in min)</th>\n",
       "      <th>released date</th>\n",
       "      <th>unknown rating</th>\n",
       "      <th>unknown writer</th>\n",
       "      <th>unknown star</th>\n",
       "      <th>unknown country</th>\n",
       "      <th>unknown company</th>\n",
       "      <th>unknown released date</th>\n",
       "    </tr>\n",
       "  </thead>\n",
       "  <tbody>\n",
       "  </tbody>\n",
       "</table>\n",
       "<p>0 rows × 21 columns</p>\n",
       "</div>"
      ],
      "text/plain": [
       "Empty DataFrame\n",
       "Columns: [name, rating, genre, year, IMDb score, votes, director, writer, star, country, budget, gross, company, duration (in min), released date, unknown rating, unknown writer, unknown star, unknown country, unknown company, unknown released date]\n",
       "Index: []\n",
       "\n",
       "[0 rows x 21 columns]"
      ]
     },
     "execution_count": 44,
     "metadata": {},
     "output_type": "execute_result"
    }
   ],
   "source": [
    "# Returning whether there are duplicates\n",
    "# There are no duplicates\n",
    "\n",
    "movies_clean[movies_clean.duplicated()]"
   ]
  },
  {
   "cell_type": "markdown",
   "id": "eac51a70",
   "metadata": {},
   "source": [
    " ### 7. Adding new column"
   ]
  },
  {
   "cell_type": "code",
   "execution_count": 45,
   "id": "a6555db5",
   "metadata": {},
   "outputs": [],
   "source": [
    "movies_clean['profit'] = movies_clean['gross'] - movies_clean['budget']"
   ]
  },
  {
   "cell_type": "code",
   "execution_count": 46,
   "id": "115cc25e",
   "metadata": {},
   "outputs": [
    {
     "data": {
      "text/html": [
       "<div>\n",
       "<style scoped>\n",
       "    .dataframe tbody tr th:only-of-type {\n",
       "        vertical-align: middle;\n",
       "    }\n",
       "\n",
       "    .dataframe tbody tr th {\n",
       "        vertical-align: top;\n",
       "    }\n",
       "\n",
       "    .dataframe thead th {\n",
       "        text-align: right;\n",
       "    }\n",
       "</style>\n",
       "<table border=\"1\" class=\"dataframe\">\n",
       "  <thead>\n",
       "    <tr style=\"text-align: right;\">\n",
       "      <th></th>\n",
       "      <th>name</th>\n",
       "      <th>rating</th>\n",
       "      <th>genre</th>\n",
       "      <th>year</th>\n",
       "      <th>IMDb score</th>\n",
       "      <th>votes</th>\n",
       "      <th>director</th>\n",
       "      <th>writer</th>\n",
       "      <th>star</th>\n",
       "      <th>country</th>\n",
       "      <th>...</th>\n",
       "      <th>company</th>\n",
       "      <th>duration (in min)</th>\n",
       "      <th>released date</th>\n",
       "      <th>unknown rating</th>\n",
       "      <th>unknown writer</th>\n",
       "      <th>unknown star</th>\n",
       "      <th>unknown country</th>\n",
       "      <th>unknown company</th>\n",
       "      <th>unknown released date</th>\n",
       "      <th>profit</th>\n",
       "    </tr>\n",
       "  </thead>\n",
       "  <tbody>\n",
       "    <tr>\n",
       "      <th>0</th>\n",
       "      <td>The Shining</td>\n",
       "      <td>R</td>\n",
       "      <td>Drama</td>\n",
       "      <td>1980</td>\n",
       "      <td>8.4</td>\n",
       "      <td>927000.0</td>\n",
       "      <td>Stanley Kubrick</td>\n",
       "      <td>Stephen King</td>\n",
       "      <td>Jack Nicholson</td>\n",
       "      <td>United States</td>\n",
       "      <td>...</td>\n",
       "      <td>Warner Bros.</td>\n",
       "      <td>146.0</td>\n",
       "      <td>1980-06-13</td>\n",
       "      <td>False</td>\n",
       "      <td>False</td>\n",
       "      <td>False</td>\n",
       "      <td>False</td>\n",
       "      <td>False</td>\n",
       "      <td>False</td>\n",
       "      <td>27998772.0</td>\n",
       "    </tr>\n",
       "    <tr>\n",
       "      <th>1</th>\n",
       "      <td>The Blue Lagoon</td>\n",
       "      <td>R</td>\n",
       "      <td>Adventure</td>\n",
       "      <td>1980</td>\n",
       "      <td>5.8</td>\n",
       "      <td>65000.0</td>\n",
       "      <td>Randal Kleiser</td>\n",
       "      <td>Henry De Vere Stacpoole</td>\n",
       "      <td>Brooke Shields</td>\n",
       "      <td>United States</td>\n",
       "      <td>...</td>\n",
       "      <td>Columbia Pictures</td>\n",
       "      <td>104.0</td>\n",
       "      <td>1980-07-02</td>\n",
       "      <td>False</td>\n",
       "      <td>False</td>\n",
       "      <td>False</td>\n",
       "      <td>False</td>\n",
       "      <td>False</td>\n",
       "      <td>False</td>\n",
       "      <td>54353106.0</td>\n",
       "    </tr>\n",
       "    <tr>\n",
       "      <th>2</th>\n",
       "      <td>Star Wars: Episode V - The Empire Strikes Back</td>\n",
       "      <td>PG</td>\n",
       "      <td>Action</td>\n",
       "      <td>1980</td>\n",
       "      <td>8.7</td>\n",
       "      <td>1200000.0</td>\n",
       "      <td>Irvin Kershner</td>\n",
       "      <td>Leigh Brackett</td>\n",
       "      <td>Mark Hamill</td>\n",
       "      <td>United States</td>\n",
       "      <td>...</td>\n",
       "      <td>Lucasfilm</td>\n",
       "      <td>124.0</td>\n",
       "      <td>1980-06-20</td>\n",
       "      <td>False</td>\n",
       "      <td>False</td>\n",
       "      <td>False</td>\n",
       "      <td>False</td>\n",
       "      <td>False</td>\n",
       "      <td>False</td>\n",
       "      <td>520375067.0</td>\n",
       "    </tr>\n",
       "    <tr>\n",
       "      <th>3</th>\n",
       "      <td>Airplane!</td>\n",
       "      <td>PG</td>\n",
       "      <td>Comedy</td>\n",
       "      <td>1980</td>\n",
       "      <td>7.7</td>\n",
       "      <td>221000.0</td>\n",
       "      <td>Jim Abrahams</td>\n",
       "      <td>Jim Abrahams</td>\n",
       "      <td>Robert Hays</td>\n",
       "      <td>United States</td>\n",
       "      <td>...</td>\n",
       "      <td>Paramount Pictures</td>\n",
       "      <td>88.0</td>\n",
       "      <td>1980-07-02</td>\n",
       "      <td>False</td>\n",
       "      <td>False</td>\n",
       "      <td>False</td>\n",
       "      <td>False</td>\n",
       "      <td>False</td>\n",
       "      <td>False</td>\n",
       "      <td>79953539.0</td>\n",
       "    </tr>\n",
       "    <tr>\n",
       "      <th>4</th>\n",
       "      <td>Caddyshack</td>\n",
       "      <td>R</td>\n",
       "      <td>Comedy</td>\n",
       "      <td>1980</td>\n",
       "      <td>7.3</td>\n",
       "      <td>108000.0</td>\n",
       "      <td>Harold Ramis</td>\n",
       "      <td>Brian Doyle-Murray</td>\n",
       "      <td>Chevy Chase</td>\n",
       "      <td>United States</td>\n",
       "      <td>...</td>\n",
       "      <td>Orion Pictures</td>\n",
       "      <td>98.0</td>\n",
       "      <td>1980-07-25</td>\n",
       "      <td>False</td>\n",
       "      <td>False</td>\n",
       "      <td>False</td>\n",
       "      <td>False</td>\n",
       "      <td>False</td>\n",
       "      <td>False</td>\n",
       "      <td>33846344.0</td>\n",
       "    </tr>\n",
       "    <tr>\n",
       "      <th>...</th>\n",
       "      <td>...</td>\n",
       "      <td>...</td>\n",
       "      <td>...</td>\n",
       "      <td>...</td>\n",
       "      <td>...</td>\n",
       "      <td>...</td>\n",
       "      <td>...</td>\n",
       "      <td>...</td>\n",
       "      <td>...</td>\n",
       "      <td>...</td>\n",
       "      <td>...</td>\n",
       "      <td>...</td>\n",
       "      <td>...</td>\n",
       "      <td>...</td>\n",
       "      <td>...</td>\n",
       "      <td>...</td>\n",
       "      <td>...</td>\n",
       "      <td>...</td>\n",
       "      <td>...</td>\n",
       "      <td>...</td>\n",
       "      <td>...</td>\n",
       "    </tr>\n",
       "    <tr>\n",
       "      <th>7663</th>\n",
       "      <td>More to Life</td>\n",
       "      <td>NaN</td>\n",
       "      <td>Drama</td>\n",
       "      <td>2020</td>\n",
       "      <td>3.1</td>\n",
       "      <td>18.0</td>\n",
       "      <td>Joseph Ebanks</td>\n",
       "      <td>Joseph Ebanks</td>\n",
       "      <td>Shannon Bond</td>\n",
       "      <td>United States</td>\n",
       "      <td>...</td>\n",
       "      <td>NaN</td>\n",
       "      <td>90.0</td>\n",
       "      <td>2020-10-23</td>\n",
       "      <td>True</td>\n",
       "      <td>False</td>\n",
       "      <td>False</td>\n",
       "      <td>False</td>\n",
       "      <td>True</td>\n",
       "      <td>False</td>\n",
       "      <td>20198757.0</td>\n",
       "    </tr>\n",
       "    <tr>\n",
       "      <th>7664</th>\n",
       "      <td>Dream Round</td>\n",
       "      <td>NaN</td>\n",
       "      <td>Comedy</td>\n",
       "      <td>2020</td>\n",
       "      <td>4.7</td>\n",
       "      <td>36.0</td>\n",
       "      <td>Dusty Dukatz</td>\n",
       "      <td>Lisa Huston</td>\n",
       "      <td>Michael Saquella</td>\n",
       "      <td>United States</td>\n",
       "      <td>...</td>\n",
       "      <td>Cactus Blue Entertainment</td>\n",
       "      <td>90.0</td>\n",
       "      <td>2020-02-07</td>\n",
       "      <td>True</td>\n",
       "      <td>False</td>\n",
       "      <td>False</td>\n",
       "      <td>False</td>\n",
       "      <td>False</td>\n",
       "      <td>False</td>\n",
       "      <td>-294243.0</td>\n",
       "    </tr>\n",
       "    <tr>\n",
       "      <th>7665</th>\n",
       "      <td>Saving Mbango</td>\n",
       "      <td>NaN</td>\n",
       "      <td>Drama</td>\n",
       "      <td>2020</td>\n",
       "      <td>5.7</td>\n",
       "      <td>29.0</td>\n",
       "      <td>Nkanya Nkwai</td>\n",
       "      <td>Lynno Lovert</td>\n",
       "      <td>Onyama Laura</td>\n",
       "      <td>Cameroon</td>\n",
       "      <td>...</td>\n",
       "      <td>Embi Productions</td>\n",
       "      <td>104.0</td>\n",
       "      <td>2020-04-27</td>\n",
       "      <td>True</td>\n",
       "      <td>False</td>\n",
       "      <td>False</td>\n",
       "      <td>False</td>\n",
       "      <td>False</td>\n",
       "      <td>False</td>\n",
       "      <td>20147007.0</td>\n",
       "    </tr>\n",
       "    <tr>\n",
       "      <th>7666</th>\n",
       "      <td>It's Just Us</td>\n",
       "      <td>NaN</td>\n",
       "      <td>Drama</td>\n",
       "      <td>2020</td>\n",
       "      <td>6.4</td>\n",
       "      <td>33000.0</td>\n",
       "      <td>James Randall</td>\n",
       "      <td>James Randall</td>\n",
       "      <td>Christina Roz</td>\n",
       "      <td>United States</td>\n",
       "      <td>...</td>\n",
       "      <td>NaN</td>\n",
       "      <td>120.0</td>\n",
       "      <td>2020-10-01</td>\n",
       "      <td>True</td>\n",
       "      <td>False</td>\n",
       "      <td>False</td>\n",
       "      <td>False</td>\n",
       "      <td>True</td>\n",
       "      <td>False</td>\n",
       "      <td>20190757.0</td>\n",
       "    </tr>\n",
       "    <tr>\n",
       "      <th>7667</th>\n",
       "      <td>Tee em el</td>\n",
       "      <td>NaN</td>\n",
       "      <td>Horror</td>\n",
       "      <td>2020</td>\n",
       "      <td>5.7</td>\n",
       "      <td>7.0</td>\n",
       "      <td>Pereko Mosia</td>\n",
       "      <td>Pereko Mosia</td>\n",
       "      <td>Siyabonga Mabaso</td>\n",
       "      <td>United States</td>\n",
       "      <td>...</td>\n",
       "      <td>Pk 65 Films</td>\n",
       "      <td>102.0</td>\n",
       "      <td>2020-08-19</td>\n",
       "      <td>True</td>\n",
       "      <td>False</td>\n",
       "      <td>False</td>\n",
       "      <td>False</td>\n",
       "      <td>False</td>\n",
       "      <td>False</td>\n",
       "      <td>-294243.0</td>\n",
       "    </tr>\n",
       "  </tbody>\n",
       "</table>\n",
       "<p>7668 rows × 22 columns</p>\n",
       "</div>"
      ],
      "text/plain": [
       "                                                name rating      genre  year  \\\n",
       "0                                        The Shining      R      Drama  1980   \n",
       "1                                    The Blue Lagoon      R  Adventure  1980   \n",
       "2     Star Wars: Episode V - The Empire Strikes Back     PG     Action  1980   \n",
       "3                                          Airplane!     PG     Comedy  1980   \n",
       "4                                         Caddyshack      R     Comedy  1980   \n",
       "...                                              ...    ...        ...   ...   \n",
       "7663                                    More to Life    NaN      Drama  2020   \n",
       "7664                                     Dream Round    NaN     Comedy  2020   \n",
       "7665                                   Saving Mbango    NaN      Drama  2020   \n",
       "7666                                    It's Just Us    NaN      Drama  2020   \n",
       "7667                                       Tee em el    NaN     Horror  2020   \n",
       "\n",
       "      IMDb score      votes         director                   writer  \\\n",
       "0            8.4   927000.0  Stanley Kubrick             Stephen King   \n",
       "1            5.8    65000.0   Randal Kleiser  Henry De Vere Stacpoole   \n",
       "2            8.7  1200000.0   Irvin Kershner           Leigh Brackett   \n",
       "3            7.7   221000.0     Jim Abrahams             Jim Abrahams   \n",
       "4            7.3   108000.0     Harold Ramis       Brian Doyle-Murray   \n",
       "...          ...        ...              ...                      ...   \n",
       "7663         3.1       18.0    Joseph Ebanks            Joseph Ebanks   \n",
       "7664         4.7       36.0     Dusty Dukatz              Lisa Huston   \n",
       "7665         5.7       29.0     Nkanya Nkwai             Lynno Lovert   \n",
       "7666         6.4    33000.0    James Randall            James Randall   \n",
       "7667         5.7        7.0     Pereko Mosia             Pereko Mosia   \n",
       "\n",
       "                  star        country  ...                    company  \\\n",
       "0       Jack Nicholson  United States  ...               Warner Bros.   \n",
       "1       Brooke Shields  United States  ...          Columbia Pictures   \n",
       "2          Mark Hamill  United States  ...                  Lucasfilm   \n",
       "3          Robert Hays  United States  ...         Paramount Pictures   \n",
       "4          Chevy Chase  United States  ...             Orion Pictures   \n",
       "...                ...            ...  ...                        ...   \n",
       "7663      Shannon Bond  United States  ...                        NaN   \n",
       "7664  Michael Saquella  United States  ...  Cactus Blue Entertainment   \n",
       "7665      Onyama Laura       Cameroon  ...           Embi Productions   \n",
       "7666     Christina Roz  United States  ...                        NaN   \n",
       "7667  Siyabonga Mabaso  United States  ...                Pk 65 Films   \n",
       "\n",
       "      duration (in min) released date  unknown rating unknown writer  \\\n",
       "0                 146.0    1980-06-13           False          False   \n",
       "1                 104.0    1980-07-02           False          False   \n",
       "2                 124.0    1980-06-20           False          False   \n",
       "3                  88.0    1980-07-02           False          False   \n",
       "4                  98.0    1980-07-25           False          False   \n",
       "...                 ...           ...             ...            ...   \n",
       "7663               90.0    2020-10-23            True          False   \n",
       "7664               90.0    2020-02-07            True          False   \n",
       "7665              104.0    2020-04-27            True          False   \n",
       "7666              120.0    2020-10-01            True          False   \n",
       "7667              102.0    2020-08-19            True          False   \n",
       "\n",
       "      unknown star  unknown country  unknown company  unknown released date  \\\n",
       "0            False            False            False                  False   \n",
       "1            False            False            False                  False   \n",
       "2            False            False            False                  False   \n",
       "3            False            False            False                  False   \n",
       "4            False            False            False                  False   \n",
       "...            ...              ...              ...                    ...   \n",
       "7663         False            False             True                  False   \n",
       "7664         False            False            False                  False   \n",
       "7665         False            False            False                  False   \n",
       "7666         False            False             True                  False   \n",
       "7667         False            False            False                  False   \n",
       "\n",
       "           profit  \n",
       "0      27998772.0  \n",
       "1      54353106.0  \n",
       "2     520375067.0  \n",
       "3      79953539.0  \n",
       "4      33846344.0  \n",
       "...           ...  \n",
       "7663   20198757.0  \n",
       "7664    -294243.0  \n",
       "7665   20147007.0  \n",
       "7666   20190757.0  \n",
       "7667    -294243.0  \n",
       "\n",
       "[7668 rows x 22 columns]"
      ]
     },
     "execution_count": 46,
     "metadata": {},
     "output_type": "execute_result"
    }
   ],
   "source": [
    "movies_clean"
   ]
  },
  {
   "cell_type": "markdown",
   "id": "bac9e595",
   "metadata": {},
   "source": [
    "### 8. Rearranging and Exporting Modified Data"
   ]
  },
  {
   "cell_type": "code",
   "execution_count": 47,
   "id": "ace1dc1c",
   "metadata": {},
   "outputs": [],
   "source": [
    "# Rearrranging columns of dataframe\n",
    "\n",
    "movies_clean = movies_clean[['name', 'rating','unknown rating', 'genre', 'year', 'IMDb score', 'votes', 'director',\n",
    "       'writer', 'unknown writer', 'star', 'unknown star', 'country', 'unknown country', 'budget', 'gross', 'profit', 'company',\n",
    "       'unknown company', 'duration (in min)', 'released date', 'unknown released date'\n",
    "       ]]"
   ]
  },
  {
   "cell_type": "code",
   "execution_count": 48,
   "id": "53bf38ed",
   "metadata": {},
   "outputs": [
    {
     "data": {
      "text/html": [
       "<div>\n",
       "<style scoped>\n",
       "    .dataframe tbody tr th:only-of-type {\n",
       "        vertical-align: middle;\n",
       "    }\n",
       "\n",
       "    .dataframe tbody tr th {\n",
       "        vertical-align: top;\n",
       "    }\n",
       "\n",
       "    .dataframe thead th {\n",
       "        text-align: right;\n",
       "    }\n",
       "</style>\n",
       "<table border=\"1\" class=\"dataframe\">\n",
       "  <thead>\n",
       "    <tr style=\"text-align: right;\">\n",
       "      <th></th>\n",
       "      <th>name</th>\n",
       "      <th>rating</th>\n",
       "      <th>unknown rating</th>\n",
       "      <th>genre</th>\n",
       "      <th>year</th>\n",
       "      <th>IMDb score</th>\n",
       "      <th>votes</th>\n",
       "      <th>director</th>\n",
       "      <th>writer</th>\n",
       "      <th>unknown writer</th>\n",
       "      <th>...</th>\n",
       "      <th>country</th>\n",
       "      <th>unknown country</th>\n",
       "      <th>budget</th>\n",
       "      <th>gross</th>\n",
       "      <th>profit</th>\n",
       "      <th>company</th>\n",
       "      <th>unknown company</th>\n",
       "      <th>duration (in min)</th>\n",
       "      <th>released date</th>\n",
       "      <th>unknown released date</th>\n",
       "    </tr>\n",
       "  </thead>\n",
       "  <tbody>\n",
       "    <tr>\n",
       "      <th>0</th>\n",
       "      <td>The Shining</td>\n",
       "      <td>R</td>\n",
       "      <td>False</td>\n",
       "      <td>Drama</td>\n",
       "      <td>1980</td>\n",
       "      <td>8.4</td>\n",
       "      <td>927000.0</td>\n",
       "      <td>Stanley Kubrick</td>\n",
       "      <td>Stephen King</td>\n",
       "      <td>False</td>\n",
       "      <td>...</td>\n",
       "      <td>United States</td>\n",
       "      <td>False</td>\n",
       "      <td>19000000.0</td>\n",
       "      <td>46998772.0</td>\n",
       "      <td>27998772.0</td>\n",
       "      <td>Warner Bros.</td>\n",
       "      <td>False</td>\n",
       "      <td>146.0</td>\n",
       "      <td>1980-06-13</td>\n",
       "      <td>False</td>\n",
       "    </tr>\n",
       "    <tr>\n",
       "      <th>1</th>\n",
       "      <td>The Blue Lagoon</td>\n",
       "      <td>R</td>\n",
       "      <td>False</td>\n",
       "      <td>Adventure</td>\n",
       "      <td>1980</td>\n",
       "      <td>5.8</td>\n",
       "      <td>65000.0</td>\n",
       "      <td>Randal Kleiser</td>\n",
       "      <td>Henry De Vere Stacpoole</td>\n",
       "      <td>False</td>\n",
       "      <td>...</td>\n",
       "      <td>United States</td>\n",
       "      <td>False</td>\n",
       "      <td>4500000.0</td>\n",
       "      <td>58853106.0</td>\n",
       "      <td>54353106.0</td>\n",
       "      <td>Columbia Pictures</td>\n",
       "      <td>False</td>\n",
       "      <td>104.0</td>\n",
       "      <td>1980-07-02</td>\n",
       "      <td>False</td>\n",
       "    </tr>\n",
       "    <tr>\n",
       "      <th>2</th>\n",
       "      <td>Star Wars: Episode V - The Empire Strikes Back</td>\n",
       "      <td>PG</td>\n",
       "      <td>False</td>\n",
       "      <td>Action</td>\n",
       "      <td>1980</td>\n",
       "      <td>8.7</td>\n",
       "      <td>1200000.0</td>\n",
       "      <td>Irvin Kershner</td>\n",
       "      <td>Leigh Brackett</td>\n",
       "      <td>False</td>\n",
       "      <td>...</td>\n",
       "      <td>United States</td>\n",
       "      <td>False</td>\n",
       "      <td>18000000.0</td>\n",
       "      <td>538375067.0</td>\n",
       "      <td>520375067.0</td>\n",
       "      <td>Lucasfilm</td>\n",
       "      <td>False</td>\n",
       "      <td>124.0</td>\n",
       "      <td>1980-06-20</td>\n",
       "      <td>False</td>\n",
       "    </tr>\n",
       "    <tr>\n",
       "      <th>3</th>\n",
       "      <td>Airplane!</td>\n",
       "      <td>PG</td>\n",
       "      <td>False</td>\n",
       "      <td>Comedy</td>\n",
       "      <td>1980</td>\n",
       "      <td>7.7</td>\n",
       "      <td>221000.0</td>\n",
       "      <td>Jim Abrahams</td>\n",
       "      <td>Jim Abrahams</td>\n",
       "      <td>False</td>\n",
       "      <td>...</td>\n",
       "      <td>United States</td>\n",
       "      <td>False</td>\n",
       "      <td>3500000.0</td>\n",
       "      <td>83453539.0</td>\n",
       "      <td>79953539.0</td>\n",
       "      <td>Paramount Pictures</td>\n",
       "      <td>False</td>\n",
       "      <td>88.0</td>\n",
       "      <td>1980-07-02</td>\n",
       "      <td>False</td>\n",
       "    </tr>\n",
       "    <tr>\n",
       "      <th>4</th>\n",
       "      <td>Caddyshack</td>\n",
       "      <td>R</td>\n",
       "      <td>False</td>\n",
       "      <td>Comedy</td>\n",
       "      <td>1980</td>\n",
       "      <td>7.3</td>\n",
       "      <td>108000.0</td>\n",
       "      <td>Harold Ramis</td>\n",
       "      <td>Brian Doyle-Murray</td>\n",
       "      <td>False</td>\n",
       "      <td>...</td>\n",
       "      <td>United States</td>\n",
       "      <td>False</td>\n",
       "      <td>6000000.0</td>\n",
       "      <td>39846344.0</td>\n",
       "      <td>33846344.0</td>\n",
       "      <td>Orion Pictures</td>\n",
       "      <td>False</td>\n",
       "      <td>98.0</td>\n",
       "      <td>1980-07-25</td>\n",
       "      <td>False</td>\n",
       "    </tr>\n",
       "    <tr>\n",
       "      <th>...</th>\n",
       "      <td>...</td>\n",
       "      <td>...</td>\n",
       "      <td>...</td>\n",
       "      <td>...</td>\n",
       "      <td>...</td>\n",
       "      <td>...</td>\n",
       "      <td>...</td>\n",
       "      <td>...</td>\n",
       "      <td>...</td>\n",
       "      <td>...</td>\n",
       "      <td>...</td>\n",
       "      <td>...</td>\n",
       "      <td>...</td>\n",
       "      <td>...</td>\n",
       "      <td>...</td>\n",
       "      <td>...</td>\n",
       "      <td>...</td>\n",
       "      <td>...</td>\n",
       "      <td>...</td>\n",
       "      <td>...</td>\n",
       "      <td>...</td>\n",
       "    </tr>\n",
       "    <tr>\n",
       "      <th>7663</th>\n",
       "      <td>More to Life</td>\n",
       "      <td>NaN</td>\n",
       "      <td>True</td>\n",
       "      <td>Drama</td>\n",
       "      <td>2020</td>\n",
       "      <td>3.1</td>\n",
       "      <td>18.0</td>\n",
       "      <td>Joseph Ebanks</td>\n",
       "      <td>Joseph Ebanks</td>\n",
       "      <td>False</td>\n",
       "      <td>...</td>\n",
       "      <td>United States</td>\n",
       "      <td>False</td>\n",
       "      <td>7000.0</td>\n",
       "      <td>20205757.0</td>\n",
       "      <td>20198757.0</td>\n",
       "      <td>NaN</td>\n",
       "      <td>True</td>\n",
       "      <td>90.0</td>\n",
       "      <td>2020-10-23</td>\n",
       "      <td>False</td>\n",
       "    </tr>\n",
       "    <tr>\n",
       "      <th>7664</th>\n",
       "      <td>Dream Round</td>\n",
       "      <td>NaN</td>\n",
       "      <td>True</td>\n",
       "      <td>Comedy</td>\n",
       "      <td>2020</td>\n",
       "      <td>4.7</td>\n",
       "      <td>36.0</td>\n",
       "      <td>Dusty Dukatz</td>\n",
       "      <td>Lisa Huston</td>\n",
       "      <td>False</td>\n",
       "      <td>...</td>\n",
       "      <td>United States</td>\n",
       "      <td>False</td>\n",
       "      <td>20500000.0</td>\n",
       "      <td>20205757.0</td>\n",
       "      <td>-294243.0</td>\n",
       "      <td>Cactus Blue Entertainment</td>\n",
       "      <td>False</td>\n",
       "      <td>90.0</td>\n",
       "      <td>2020-02-07</td>\n",
       "      <td>False</td>\n",
       "    </tr>\n",
       "    <tr>\n",
       "      <th>7665</th>\n",
       "      <td>Saving Mbango</td>\n",
       "      <td>NaN</td>\n",
       "      <td>True</td>\n",
       "      <td>Drama</td>\n",
       "      <td>2020</td>\n",
       "      <td>5.7</td>\n",
       "      <td>29.0</td>\n",
       "      <td>Nkanya Nkwai</td>\n",
       "      <td>Lynno Lovert</td>\n",
       "      <td>False</td>\n",
       "      <td>...</td>\n",
       "      <td>Cameroon</td>\n",
       "      <td>False</td>\n",
       "      <td>58750.0</td>\n",
       "      <td>20205757.0</td>\n",
       "      <td>20147007.0</td>\n",
       "      <td>Embi Productions</td>\n",
       "      <td>False</td>\n",
       "      <td>104.0</td>\n",
       "      <td>2020-04-27</td>\n",
       "      <td>False</td>\n",
       "    </tr>\n",
       "    <tr>\n",
       "      <th>7666</th>\n",
       "      <td>It's Just Us</td>\n",
       "      <td>NaN</td>\n",
       "      <td>True</td>\n",
       "      <td>Drama</td>\n",
       "      <td>2020</td>\n",
       "      <td>6.4</td>\n",
       "      <td>33000.0</td>\n",
       "      <td>James Randall</td>\n",
       "      <td>James Randall</td>\n",
       "      <td>False</td>\n",
       "      <td>...</td>\n",
       "      <td>United States</td>\n",
       "      <td>False</td>\n",
       "      <td>15000.0</td>\n",
       "      <td>20205757.0</td>\n",
       "      <td>20190757.0</td>\n",
       "      <td>NaN</td>\n",
       "      <td>True</td>\n",
       "      <td>120.0</td>\n",
       "      <td>2020-10-01</td>\n",
       "      <td>False</td>\n",
       "    </tr>\n",
       "    <tr>\n",
       "      <th>7667</th>\n",
       "      <td>Tee em el</td>\n",
       "      <td>NaN</td>\n",
       "      <td>True</td>\n",
       "      <td>Horror</td>\n",
       "      <td>2020</td>\n",
       "      <td>5.7</td>\n",
       "      <td>7.0</td>\n",
       "      <td>Pereko Mosia</td>\n",
       "      <td>Pereko Mosia</td>\n",
       "      <td>False</td>\n",
       "      <td>...</td>\n",
       "      <td>United States</td>\n",
       "      <td>False</td>\n",
       "      <td>20500000.0</td>\n",
       "      <td>20205757.0</td>\n",
       "      <td>-294243.0</td>\n",
       "      <td>Pk 65 Films</td>\n",
       "      <td>False</td>\n",
       "      <td>102.0</td>\n",
       "      <td>2020-08-19</td>\n",
       "      <td>False</td>\n",
       "    </tr>\n",
       "  </tbody>\n",
       "</table>\n",
       "<p>7668 rows × 22 columns</p>\n",
       "</div>"
      ],
      "text/plain": [
       "                                                name rating  unknown rating  \\\n",
       "0                                        The Shining      R           False   \n",
       "1                                    The Blue Lagoon      R           False   \n",
       "2     Star Wars: Episode V - The Empire Strikes Back     PG           False   \n",
       "3                                          Airplane!     PG           False   \n",
       "4                                         Caddyshack      R           False   \n",
       "...                                              ...    ...             ...   \n",
       "7663                                    More to Life    NaN            True   \n",
       "7664                                     Dream Round    NaN            True   \n",
       "7665                                   Saving Mbango    NaN            True   \n",
       "7666                                    It's Just Us    NaN            True   \n",
       "7667                                       Tee em el    NaN            True   \n",
       "\n",
       "          genre  year  IMDb score      votes         director  \\\n",
       "0         Drama  1980         8.4   927000.0  Stanley Kubrick   \n",
       "1     Adventure  1980         5.8    65000.0   Randal Kleiser   \n",
       "2        Action  1980         8.7  1200000.0   Irvin Kershner   \n",
       "3        Comedy  1980         7.7   221000.0     Jim Abrahams   \n",
       "4        Comedy  1980         7.3   108000.0     Harold Ramis   \n",
       "...         ...   ...         ...        ...              ...   \n",
       "7663      Drama  2020         3.1       18.0    Joseph Ebanks   \n",
       "7664     Comedy  2020         4.7       36.0     Dusty Dukatz   \n",
       "7665      Drama  2020         5.7       29.0     Nkanya Nkwai   \n",
       "7666      Drama  2020         6.4    33000.0    James Randall   \n",
       "7667     Horror  2020         5.7        7.0     Pereko Mosia   \n",
       "\n",
       "                       writer  unknown writer  ...        country  \\\n",
       "0                Stephen King           False  ...  United States   \n",
       "1     Henry De Vere Stacpoole           False  ...  United States   \n",
       "2              Leigh Brackett           False  ...  United States   \n",
       "3                Jim Abrahams           False  ...  United States   \n",
       "4          Brian Doyle-Murray           False  ...  United States   \n",
       "...                       ...             ...  ...            ...   \n",
       "7663            Joseph Ebanks           False  ...  United States   \n",
       "7664              Lisa Huston           False  ...  United States   \n",
       "7665             Lynno Lovert           False  ...       Cameroon   \n",
       "7666            James Randall           False  ...  United States   \n",
       "7667             Pereko Mosia           False  ...  United States   \n",
       "\n",
       "      unknown country      budget        gross       profit  \\\n",
       "0               False  19000000.0   46998772.0   27998772.0   \n",
       "1               False   4500000.0   58853106.0   54353106.0   \n",
       "2               False  18000000.0  538375067.0  520375067.0   \n",
       "3               False   3500000.0   83453539.0   79953539.0   \n",
       "4               False   6000000.0   39846344.0   33846344.0   \n",
       "...               ...         ...          ...          ...   \n",
       "7663            False      7000.0   20205757.0   20198757.0   \n",
       "7664            False  20500000.0   20205757.0    -294243.0   \n",
       "7665            False     58750.0   20205757.0   20147007.0   \n",
       "7666            False     15000.0   20205757.0   20190757.0   \n",
       "7667            False  20500000.0   20205757.0    -294243.0   \n",
       "\n",
       "                        company  unknown company duration (in min)  \\\n",
       "0                  Warner Bros.            False             146.0   \n",
       "1             Columbia Pictures            False             104.0   \n",
       "2                     Lucasfilm            False             124.0   \n",
       "3            Paramount Pictures            False              88.0   \n",
       "4                Orion Pictures            False              98.0   \n",
       "...                         ...              ...               ...   \n",
       "7663                        NaN             True              90.0   \n",
       "7664  Cactus Blue Entertainment            False              90.0   \n",
       "7665           Embi Productions            False             104.0   \n",
       "7666                        NaN             True             120.0   \n",
       "7667                Pk 65 Films            False             102.0   \n",
       "\n",
       "      released date  unknown released date  \n",
       "0        1980-06-13                  False  \n",
       "1        1980-07-02                  False  \n",
       "2        1980-06-20                  False  \n",
       "3        1980-07-02                  False  \n",
       "4        1980-07-25                  False  \n",
       "...             ...                    ...  \n",
       "7663     2020-10-23                  False  \n",
       "7664     2020-02-07                  False  \n",
       "7665     2020-04-27                  False  \n",
       "7666     2020-10-01                  False  \n",
       "7667     2020-08-19                  False  \n",
       "\n",
       "[7668 rows x 22 columns]"
      ]
     },
     "execution_count": 48,
     "metadata": {},
     "output_type": "execute_result"
    }
   ],
   "source": [
    "# Displaying modified dataset\n",
    "\n",
    "movies_clean"
   ]
  },
  {
   "cell_type": "code",
   "execution_count": 49,
   "id": "8a620a61",
   "metadata": {},
   "outputs": [],
   "source": [
    "# Exporting modified dataframe\n",
    "\n",
    "movies_clean.to_csv(os.path.join(path, 'Data', 'Prepared Data', 'movies_modified.csv'))"
   ]
  }
 ],
 "metadata": {
  "kernelspec": {
   "display_name": "Python 3 (ipykernel)",
   "language": "python",
   "name": "python3"
  },
  "language_info": {
   "codemirror_mode": {
    "name": "ipython",
    "version": 3
   },
   "file_extension": ".py",
   "mimetype": "text/x-python",
   "name": "python",
   "nbconvert_exporter": "python",
   "pygments_lexer": "ipython3",
   "version": "3.9.7"
  }
 },
 "nbformat": 4,
 "nbformat_minor": 5
}

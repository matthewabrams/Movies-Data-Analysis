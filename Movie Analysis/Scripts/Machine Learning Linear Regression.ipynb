{
 "cells": [
  {
   "cell_type": "markdown",
   "id": "21a47fae",
   "metadata": {},
   "source": [
    "### 1) Importing Libraries and dataframe"
   ]
  },
  {
   "cell_type": "code",
   "execution_count": 1,
   "id": "575a33c8",
   "metadata": {},
   "outputs": [],
   "source": [
    "# Importing libraries\n",
    "\n",
    "import pandas as pd\n",
    "import numpy as np\n",
    "import seaborn as sns\n",
    "import matplotlib\n",
    "import matplotlib.pyplot as plt\n",
    "import os\n",
    "import sklearn\n",
    "from sklearn.model_selection import train_test_split \n",
    "from sklearn.linear_model import LinearRegression\n",
    "from sklearn.metrics import mean_squared_error, r2_score"
   ]
  },
  {
   "cell_type": "code",
   "execution_count": 2,
   "id": "d0d74c0e",
   "metadata": {},
   "outputs": [
    {
     "data": {
      "text/html": [
       "<div>\n",
       "<style scoped>\n",
       "    .dataframe tbody tr th:only-of-type {\n",
       "        vertical-align: middle;\n",
       "    }\n",
       "\n",
       "    .dataframe tbody tr th {\n",
       "        vertical-align: top;\n",
       "    }\n",
       "\n",
       "    .dataframe thead th {\n",
       "        text-align: right;\n",
       "    }\n",
       "</style>\n",
       "<table border=\"1\" class=\"dataframe\">\n",
       "  <thead>\n",
       "    <tr style=\"text-align: right;\">\n",
       "      <th></th>\n",
       "      <th>name</th>\n",
       "      <th>rating</th>\n",
       "      <th>unknown rating</th>\n",
       "      <th>genre</th>\n",
       "      <th>year</th>\n",
       "      <th>IMDb score</th>\n",
       "      <th>average IMDb score for country per film</th>\n",
       "      <th>votes</th>\n",
       "      <th>average number of votes for country per film</th>\n",
       "      <th>director</th>\n",
       "      <th>...</th>\n",
       "      <th>gross</th>\n",
       "      <th>average gross for country per film</th>\n",
       "      <th>profit</th>\n",
       "      <th>average profit for country per film</th>\n",
       "      <th>gross category</th>\n",
       "      <th>company</th>\n",
       "      <th>unknown company</th>\n",
       "      <th>duration (in min)</th>\n",
       "      <th>released date</th>\n",
       "      <th>unknown released date</th>\n",
       "    </tr>\n",
       "  </thead>\n",
       "  <tbody>\n",
       "    <tr>\n",
       "      <th>0</th>\n",
       "      <td>The Shining</td>\n",
       "      <td>R</td>\n",
       "      <td>False</td>\n",
       "      <td>Drama</td>\n",
       "      <td>1980</td>\n",
       "      <td>8.4</td>\n",
       "      <td>6.4</td>\n",
       "      <td>927000.0</td>\n",
       "      <td>95064.85761</td>\n",
       "      <td>Stanley Kubrick</td>\n",
       "      <td>...</td>\n",
       "      <td>46998772.0</td>\n",
       "      <td>86317303.02</td>\n",
       "      <td>27998772.0</td>\n",
       "      <td>52914083.47</td>\n",
       "      <td>20-100 M</td>\n",
       "      <td>Warner Bros.</td>\n",
       "      <td>False</td>\n",
       "      <td>146.0</td>\n",
       "      <td>1980-06-13</td>\n",
       "      <td>False</td>\n",
       "    </tr>\n",
       "    <tr>\n",
       "      <th>1</th>\n",
       "      <td>The Blue Lagoon</td>\n",
       "      <td>R</td>\n",
       "      <td>False</td>\n",
       "      <td>Adventure</td>\n",
       "      <td>1980</td>\n",
       "      <td>5.8</td>\n",
       "      <td>6.4</td>\n",
       "      <td>65000.0</td>\n",
       "      <td>95064.85761</td>\n",
       "      <td>Randal Kleiser</td>\n",
       "      <td>...</td>\n",
       "      <td>58853106.0</td>\n",
       "      <td>86317303.02</td>\n",
       "      <td>54353106.0</td>\n",
       "      <td>52914083.47</td>\n",
       "      <td>20-100 M</td>\n",
       "      <td>Columbia Pictures</td>\n",
       "      <td>False</td>\n",
       "      <td>104.0</td>\n",
       "      <td>1980-07-02</td>\n",
       "      <td>False</td>\n",
       "    </tr>\n",
       "    <tr>\n",
       "      <th>2</th>\n",
       "      <td>Star Wars: Episode V - The Empire Strikes Back</td>\n",
       "      <td>PG</td>\n",
       "      <td>False</td>\n",
       "      <td>Action</td>\n",
       "      <td>1980</td>\n",
       "      <td>8.7</td>\n",
       "      <td>6.4</td>\n",
       "      <td>1200000.0</td>\n",
       "      <td>95064.85761</td>\n",
       "      <td>Irvin Kershner</td>\n",
       "      <td>...</td>\n",
       "      <td>538375067.0</td>\n",
       "      <td>86317303.02</td>\n",
       "      <td>520375067.0</td>\n",
       "      <td>52914083.47</td>\n",
       "      <td>&gt; 100 M</td>\n",
       "      <td>Lucasfilm</td>\n",
       "      <td>False</td>\n",
       "      <td>124.0</td>\n",
       "      <td>1980-06-20</td>\n",
       "      <td>False</td>\n",
       "    </tr>\n",
       "    <tr>\n",
       "      <th>3</th>\n",
       "      <td>Airplane!</td>\n",
       "      <td>PG</td>\n",
       "      <td>False</td>\n",
       "      <td>Comedy</td>\n",
       "      <td>1980</td>\n",
       "      <td>7.7</td>\n",
       "      <td>6.4</td>\n",
       "      <td>221000.0</td>\n",
       "      <td>95064.85761</td>\n",
       "      <td>Jim Abrahams</td>\n",
       "      <td>...</td>\n",
       "      <td>83453539.0</td>\n",
       "      <td>86317303.02</td>\n",
       "      <td>79953539.0</td>\n",
       "      <td>52914083.47</td>\n",
       "      <td>20-100 M</td>\n",
       "      <td>Paramount Pictures</td>\n",
       "      <td>False</td>\n",
       "      <td>88.0</td>\n",
       "      <td>1980-07-02</td>\n",
       "      <td>False</td>\n",
       "    </tr>\n",
       "    <tr>\n",
       "      <th>4</th>\n",
       "      <td>Caddyshack</td>\n",
       "      <td>R</td>\n",
       "      <td>False</td>\n",
       "      <td>Comedy</td>\n",
       "      <td>1980</td>\n",
       "      <td>7.3</td>\n",
       "      <td>6.4</td>\n",
       "      <td>108000.0</td>\n",
       "      <td>95064.85761</td>\n",
       "      <td>Harold Ramis</td>\n",
       "      <td>...</td>\n",
       "      <td>39846344.0</td>\n",
       "      <td>86317303.02</td>\n",
       "      <td>33846344.0</td>\n",
       "      <td>52914083.47</td>\n",
       "      <td>20-100 M</td>\n",
       "      <td>Orion Pictures</td>\n",
       "      <td>False</td>\n",
       "      <td>98.0</td>\n",
       "      <td>1980-07-25</td>\n",
       "      <td>False</td>\n",
       "    </tr>\n",
       "    <tr>\n",
       "      <th>...</th>\n",
       "      <td>...</td>\n",
       "      <td>...</td>\n",
       "      <td>...</td>\n",
       "      <td>...</td>\n",
       "      <td>...</td>\n",
       "      <td>...</td>\n",
       "      <td>...</td>\n",
       "      <td>...</td>\n",
       "      <td>...</td>\n",
       "      <td>...</td>\n",
       "      <td>...</td>\n",
       "      <td>...</td>\n",
       "      <td>...</td>\n",
       "      <td>...</td>\n",
       "      <td>...</td>\n",
       "      <td>...</td>\n",
       "      <td>...</td>\n",
       "      <td>...</td>\n",
       "      <td>...</td>\n",
       "      <td>...</td>\n",
       "      <td>...</td>\n",
       "    </tr>\n",
       "    <tr>\n",
       "      <th>7663</th>\n",
       "      <td>More to Life</td>\n",
       "      <td>NaN</td>\n",
       "      <td>True</td>\n",
       "      <td>Drama</td>\n",
       "      <td>2020</td>\n",
       "      <td>3.1</td>\n",
       "      <td>6.4</td>\n",
       "      <td>18.0</td>\n",
       "      <td>95064.85761</td>\n",
       "      <td>Joseph Ebanks</td>\n",
       "      <td>...</td>\n",
       "      <td>20205757.0</td>\n",
       "      <td>86317303.02</td>\n",
       "      <td>20198757.0</td>\n",
       "      <td>52914083.47</td>\n",
       "      <td>20-100 M</td>\n",
       "      <td>NaN</td>\n",
       "      <td>True</td>\n",
       "      <td>90.0</td>\n",
       "      <td>2020-10-23</td>\n",
       "      <td>False</td>\n",
       "    </tr>\n",
       "    <tr>\n",
       "      <th>7664</th>\n",
       "      <td>Dream Round</td>\n",
       "      <td>NaN</td>\n",
       "      <td>True</td>\n",
       "      <td>Comedy</td>\n",
       "      <td>2020</td>\n",
       "      <td>4.7</td>\n",
       "      <td>6.4</td>\n",
       "      <td>36.0</td>\n",
       "      <td>95064.85761</td>\n",
       "      <td>Dusty Dukatz</td>\n",
       "      <td>...</td>\n",
       "      <td>20205757.0</td>\n",
       "      <td>86317303.02</td>\n",
       "      <td>-294243.0</td>\n",
       "      <td>52914083.47</td>\n",
       "      <td>20-100 M</td>\n",
       "      <td>Cactus Blue Entertainment</td>\n",
       "      <td>False</td>\n",
       "      <td>90.0</td>\n",
       "      <td>2020-02-07</td>\n",
       "      <td>False</td>\n",
       "    </tr>\n",
       "    <tr>\n",
       "      <th>7665</th>\n",
       "      <td>Saving Mbango</td>\n",
       "      <td>NaN</td>\n",
       "      <td>True</td>\n",
       "      <td>Drama</td>\n",
       "      <td>2020</td>\n",
       "      <td>5.7</td>\n",
       "      <td>5.7</td>\n",
       "      <td>29.0</td>\n",
       "      <td>29.00000</td>\n",
       "      <td>Nkanya Nkwai</td>\n",
       "      <td>...</td>\n",
       "      <td>20205757.0</td>\n",
       "      <td>20205757.00</td>\n",
       "      <td>20147007.0</td>\n",
       "      <td>20147007.00</td>\n",
       "      <td>20-100 M</td>\n",
       "      <td>Embi Productions</td>\n",
       "      <td>False</td>\n",
       "      <td>104.0</td>\n",
       "      <td>2020-04-27</td>\n",
       "      <td>False</td>\n",
       "    </tr>\n",
       "    <tr>\n",
       "      <th>7666</th>\n",
       "      <td>It's Just Us</td>\n",
       "      <td>NaN</td>\n",
       "      <td>True</td>\n",
       "      <td>Drama</td>\n",
       "      <td>2020</td>\n",
       "      <td>6.4</td>\n",
       "      <td>6.4</td>\n",
       "      <td>33000.0</td>\n",
       "      <td>95064.85761</td>\n",
       "      <td>James Randall</td>\n",
       "      <td>...</td>\n",
       "      <td>20205757.0</td>\n",
       "      <td>86317303.02</td>\n",
       "      <td>20190757.0</td>\n",
       "      <td>52914083.47</td>\n",
       "      <td>20-100 M</td>\n",
       "      <td>NaN</td>\n",
       "      <td>True</td>\n",
       "      <td>120.0</td>\n",
       "      <td>2020-10-01</td>\n",
       "      <td>False</td>\n",
       "    </tr>\n",
       "    <tr>\n",
       "      <th>7667</th>\n",
       "      <td>Tee em el</td>\n",
       "      <td>NaN</td>\n",
       "      <td>True</td>\n",
       "      <td>Horror</td>\n",
       "      <td>2020</td>\n",
       "      <td>5.7</td>\n",
       "      <td>6.4</td>\n",
       "      <td>7.0</td>\n",
       "      <td>95064.85761</td>\n",
       "      <td>Pereko Mosia</td>\n",
       "      <td>...</td>\n",
       "      <td>20205757.0</td>\n",
       "      <td>86317303.02</td>\n",
       "      <td>-294243.0</td>\n",
       "      <td>52914083.47</td>\n",
       "      <td>20-100 M</td>\n",
       "      <td>Pk 65 Films</td>\n",
       "      <td>False</td>\n",
       "      <td>102.0</td>\n",
       "      <td>2020-08-19</td>\n",
       "      <td>False</td>\n",
       "    </tr>\n",
       "  </tbody>\n",
       "</table>\n",
       "<p>7668 rows × 28 columns</p>\n",
       "</div>"
      ],
      "text/plain": [
       "                                                name rating  unknown rating  \\\n",
       "0                                        The Shining      R           False   \n",
       "1                                    The Blue Lagoon      R           False   \n",
       "2     Star Wars: Episode V - The Empire Strikes Back     PG           False   \n",
       "3                                          Airplane!     PG           False   \n",
       "4                                         Caddyshack      R           False   \n",
       "...                                              ...    ...             ...   \n",
       "7663                                    More to Life    NaN            True   \n",
       "7664                                     Dream Round    NaN            True   \n",
       "7665                                   Saving Mbango    NaN            True   \n",
       "7666                                    It's Just Us    NaN            True   \n",
       "7667                                       Tee em el    NaN            True   \n",
       "\n",
       "          genre  year  IMDb score  average IMDb score for country per film  \\\n",
       "0         Drama  1980         8.4                                      6.4   \n",
       "1     Adventure  1980         5.8                                      6.4   \n",
       "2        Action  1980         8.7                                      6.4   \n",
       "3        Comedy  1980         7.7                                      6.4   \n",
       "4        Comedy  1980         7.3                                      6.4   \n",
       "...         ...   ...         ...                                      ...   \n",
       "7663      Drama  2020         3.1                                      6.4   \n",
       "7664     Comedy  2020         4.7                                      6.4   \n",
       "7665      Drama  2020         5.7                                      5.7   \n",
       "7666      Drama  2020         6.4                                      6.4   \n",
       "7667     Horror  2020         5.7                                      6.4   \n",
       "\n",
       "          votes  average number of votes for country per film  \\\n",
       "0      927000.0                                   95064.85761   \n",
       "1       65000.0                                   95064.85761   \n",
       "2     1200000.0                                   95064.85761   \n",
       "3      221000.0                                   95064.85761   \n",
       "4      108000.0                                   95064.85761   \n",
       "...         ...                                           ...   \n",
       "7663       18.0                                   95064.85761   \n",
       "7664       36.0                                   95064.85761   \n",
       "7665       29.0                                      29.00000   \n",
       "7666    33000.0                                   95064.85761   \n",
       "7667        7.0                                   95064.85761   \n",
       "\n",
       "             director  ...        gross  average gross for country per film  \\\n",
       "0     Stanley Kubrick  ...   46998772.0                         86317303.02   \n",
       "1      Randal Kleiser  ...   58853106.0                         86317303.02   \n",
       "2      Irvin Kershner  ...  538375067.0                         86317303.02   \n",
       "3        Jim Abrahams  ...   83453539.0                         86317303.02   \n",
       "4        Harold Ramis  ...   39846344.0                         86317303.02   \n",
       "...               ...  ...          ...                                 ...   \n",
       "7663    Joseph Ebanks  ...   20205757.0                         86317303.02   \n",
       "7664     Dusty Dukatz  ...   20205757.0                         86317303.02   \n",
       "7665     Nkanya Nkwai  ...   20205757.0                         20205757.00   \n",
       "7666    James Randall  ...   20205757.0                         86317303.02   \n",
       "7667     Pereko Mosia  ...   20205757.0                         86317303.02   \n",
       "\n",
       "           profit  average profit for country per film gross category  \\\n",
       "0      27998772.0                          52914083.47       20-100 M   \n",
       "1      54353106.0                          52914083.47       20-100 M   \n",
       "2     520375067.0                          52914083.47        > 100 M   \n",
       "3      79953539.0                          52914083.47       20-100 M   \n",
       "4      33846344.0                          52914083.47       20-100 M   \n",
       "...           ...                                  ...            ...   \n",
       "7663   20198757.0                          52914083.47       20-100 M   \n",
       "7664    -294243.0                          52914083.47       20-100 M   \n",
       "7665   20147007.0                          20147007.00       20-100 M   \n",
       "7666   20190757.0                          52914083.47       20-100 M   \n",
       "7667    -294243.0                          52914083.47       20-100 M   \n",
       "\n",
       "                        company  unknown company  duration (in min)  \\\n",
       "0                  Warner Bros.            False              146.0   \n",
       "1             Columbia Pictures            False              104.0   \n",
       "2                     Lucasfilm            False              124.0   \n",
       "3            Paramount Pictures            False               88.0   \n",
       "4                Orion Pictures            False               98.0   \n",
       "...                         ...              ...                ...   \n",
       "7663                        NaN             True               90.0   \n",
       "7664  Cactus Blue Entertainment            False               90.0   \n",
       "7665           Embi Productions            False              104.0   \n",
       "7666                        NaN             True              120.0   \n",
       "7667                Pk 65 Films            False              102.0   \n",
       "\n",
       "      released date  unknown released date  \n",
       "0        1980-06-13                  False  \n",
       "1        1980-07-02                  False  \n",
       "2        1980-06-20                  False  \n",
       "3        1980-07-02                  False  \n",
       "4        1980-07-25                  False  \n",
       "...             ...                    ...  \n",
       "7663     2020-10-23                  False  \n",
       "7664     2020-02-07                  False  \n",
       "7665     2020-04-27                  False  \n",
       "7666     2020-10-01                  False  \n",
       "7667     2020-08-19                  False  \n",
       "\n",
       "[7668 rows x 28 columns]"
      ]
     },
     "execution_count": 2,
     "metadata": {},
     "output_type": "execute_result"
    }
   ],
   "source": [
    "# Importing movies_modified_3.csv dataframe\n",
    "\n",
    "path = r'/Users/matthewabrams/Desktop/Movie Analysis'\n",
    "\n",
    "movies = pd.read_csv(os.path.join(path, 'Data', 'Prepared Data', 'movies_modified_3.csv'), index_col = False)\n",
    "\n",
    "movies.drop(columns = 'Unnamed: 0', inplace = True)\n",
    "\n",
    "movies"
   ]
  },
  {
   "cell_type": "code",
   "execution_count": 3,
   "id": "17384f36",
   "metadata": {},
   "outputs": [],
   "source": [
    "# This option ensures that the graphs you create are displayed within the notebook without the need to \"call\" them specifically.\n",
    "\n",
    "%matplotlib inline"
   ]
  },
  {
   "cell_type": "markdown",
   "id": "bffe1e75",
   "metadata": {},
   "source": [
    "### 2) Extreme Values Check"
   ]
  },
  {
   "cell_type": "markdown",
   "id": "284df6a2",
   "metadata": {},
   "source": [
    "#### 2a) Checking for extreme values of gross column"
   ]
  },
  {
   "cell_type": "code",
   "execution_count": 4,
   "id": "f48f8e28",
   "metadata": {},
   "outputs": [
    {
     "data": {
      "text/plain": [
       "77063697.74973917"
      ]
     },
     "execution_count": 4,
     "metadata": {},
     "output_type": "execute_result"
    }
   ],
   "source": [
    "movies['gross'].mean()"
   ]
  },
  {
   "cell_type": "code",
   "execution_count": 5,
   "id": "df82fe00",
   "metadata": {},
   "outputs": [
    {
     "data": {
      "text/plain": [
       "163919142.96640012"
      ]
     },
     "execution_count": 5,
     "metadata": {},
     "output_type": "execute_result"
    }
   ],
   "source": [
    "movies['gross'].std()"
   ]
  },
  {
   "cell_type": "code",
   "execution_count": 6,
   "id": "6227f8d9",
   "metadata": {},
   "outputs": [
    {
     "data": {
      "text/plain": [
       "404901983.6825394"
      ]
     },
     "execution_count": 6,
     "metadata": {},
     "output_type": "execute_result"
    }
   ],
   "source": [
    "# Determining upper limit for outliers that are 2 standard deviations of the mean\n",
    "\n",
    "upper_limit_1 = movies['gross'].mean() + 2*(movies['gross'].std())\n",
    "upper_limit_1"
   ]
  },
  {
   "cell_type": "code",
   "execution_count": 7,
   "id": "ae5ec8a9",
   "metadata": {},
   "outputs": [
    {
     "data": {
      "text/plain": [
       "-250774588.18306106"
      ]
     },
     "execution_count": 7,
     "metadata": {},
     "output_type": "execute_result"
    }
   ],
   "source": [
    "# Determining lower limit for outliers that are 2 standard deviations of the mean\n",
    "\n",
    "lower_limit_1 = movies['gross'].mean() - 2*(movies['gross'].std())\n",
    "lower_limit_1"
   ]
  },
  {
   "cell_type": "code",
   "execution_count": 8,
   "id": "a5825e4f",
   "metadata": {},
   "outputs": [
    {
     "data": {
      "text/plain": [
       "2847246203.0"
      ]
     },
     "execution_count": 8,
     "metadata": {},
     "output_type": "execute_result"
    }
   ],
   "source": [
    "movies['gross'].max()"
   ]
  },
  {
   "cell_type": "code",
   "execution_count": 9,
   "id": "9218c61c",
   "metadata": {},
   "outputs": [
    {
     "data": {
      "text/plain": [
       "0.961528429838289"
      ]
     },
     "execution_count": 9,
     "metadata": {},
     "output_type": "execute_result"
    }
   ],
   "source": [
    "# Determing the percentage of values under budget column that are not outliers\n",
    "# Dividing the number of values between 0 and upper limit and the total number of observations\n",
    "\n",
    "len(movies[movies['gross'] <= upper_limit_1]) / (len(movies))"
   ]
  },
  {
   "cell_type": "code",
   "execution_count": 10,
   "id": "3d19853d",
   "metadata": {},
   "outputs": [],
   "source": [
    "# About 4% of values under gross column are outliers"
   ]
  },
  {
   "cell_type": "markdown",
   "id": "843f32de",
   "metadata": {},
   "source": [
    "#### 2b) Checking for extreme values of budget column"
   ]
  },
  {
   "cell_type": "code",
   "execution_count": 11,
   "id": "60b684b0",
   "metadata": {},
   "outputs": [
    {
     "data": {
      "text/plain": [
       "31317559.915362544"
      ]
     },
     "execution_count": 11,
     "metadata": {},
     "output_type": "execute_result"
    }
   ],
   "source": [
    "movies['budget'].mean()"
   ]
  },
  {
   "cell_type": "code",
   "execution_count": 12,
   "id": "c09e0ede",
   "metadata": {},
   "outputs": [
    {
     "data": {
      "text/plain": [
       "35752727.9353089"
      ]
     },
     "execution_count": 12,
     "metadata": {},
     "output_type": "execute_result"
    }
   ],
   "source": [
    "movies['budget'].std()"
   ]
  },
  {
   "cell_type": "code",
   "execution_count": 13,
   "id": "d2b3d2e9",
   "metadata": {},
   "outputs": [
    {
     "data": {
      "text/plain": [
       "102823015.78598034"
      ]
     },
     "execution_count": 13,
     "metadata": {},
     "output_type": "execute_result"
    }
   ],
   "source": [
    "# Determining upper limit for outliers that are 2 standard deviations of the mean\n",
    "\n",
    "upper_limit_2 = movies['budget'].mean() + 2*(movies['budget'].std())\n",
    "upper_limit_2"
   ]
  },
  {
   "cell_type": "code",
   "execution_count": 14,
   "id": "1e34b852",
   "metadata": {},
   "outputs": [
    {
     "data": {
      "text/plain": [
       "-40187895.95525526"
      ]
     },
     "execution_count": 14,
     "metadata": {},
     "output_type": "execute_result"
    }
   ],
   "source": [
    "# Determining lower limit for outliers that are 2 standard deviations of the mean\n",
    "\n",
    "lower_limit_2 = movies['budget'].mean() - 2*(movies['budget'].std())\n",
    "lower_limit_2"
   ]
  },
  {
   "cell_type": "code",
   "execution_count": 15,
   "id": "01c3f281",
   "metadata": {},
   "outputs": [
    {
     "data": {
      "text/plain": [
       "356000000.0"
      ]
     },
     "execution_count": 15,
     "metadata": {},
     "output_type": "execute_result"
    }
   ],
   "source": [
    "movies['budget'].max()"
   ]
  },
  {
   "cell_type": "code",
   "execution_count": 16,
   "id": "daf2e216",
   "metadata": {},
   "outputs": [
    {
     "data": {
      "text/plain": [
       "0.9507042253521126"
      ]
     },
     "execution_count": 16,
     "metadata": {},
     "output_type": "execute_result"
    }
   ],
   "source": [
    "# Determing the percentage of values under budget column that are not outliers\n",
    "# Dividing the number of values between 0 and upper limit and the total number of observations\n",
    "\n",
    "len(movies[movies['budget'] <= upper_limit_2]) / (len(movies))"
   ]
  },
  {
   "cell_type": "code",
   "execution_count": 17,
   "id": "f464f2c6",
   "metadata": {},
   "outputs": [],
   "source": [
    "# About 5% of values under budget column are outliers"
   ]
  },
  {
   "cell_type": "markdown",
   "id": "9826f7eb",
   "metadata": {},
   "source": [
    "####  2c) Checking for extreme values of votes column"
   ]
  },
  {
   "cell_type": "code",
   "execution_count": 18,
   "id": "42611e2c",
   "metadata": {},
   "outputs": [
    {
     "data": {
      "text/plain": [
       "88086.94431403234"
      ]
     },
     "execution_count": 18,
     "metadata": {},
     "output_type": "execute_result"
    }
   ],
   "source": [
    "movies['votes'].mean()"
   ]
  },
  {
   "cell_type": "code",
   "execution_count": 19,
   "id": "5d5623fd",
   "metadata": {},
   "outputs": [
    {
     "data": {
      "text/plain": [
       "163295.4446952631"
      ]
     },
     "execution_count": 19,
     "metadata": {},
     "output_type": "execute_result"
    }
   ],
   "source": [
    "movies['votes'].std()"
   ]
  },
  {
   "cell_type": "code",
   "execution_count": 20,
   "id": "544c67be",
   "metadata": {},
   "outputs": [
    {
     "data": {
      "text/plain": [
       "414677.83370455855"
      ]
     },
     "execution_count": 20,
     "metadata": {},
     "output_type": "execute_result"
    }
   ],
   "source": [
    "# Determining upper limit for outliers that are 2 standard deviations of the mean\n",
    "\n",
    "upper_limit_3 = movies['votes'].mean() + 2*(movies['votes'].std())\n",
    "upper_limit_3"
   ]
  },
  {
   "cell_type": "code",
   "execution_count": 21,
   "id": "8ce6bf8e",
   "metadata": {},
   "outputs": [
    {
     "data": {
      "text/plain": [
       "-238503.9450764939"
      ]
     },
     "execution_count": 21,
     "metadata": {},
     "output_type": "execute_result"
    }
   ],
   "source": [
    "# Determining lower limit for outliers that are 2 standard deviations of the mean\n",
    "\n",
    "lower_limit_3 = movies['votes'].mean() - 2*(movies['votes'].std())\n",
    "lower_limit_3"
   ]
  },
  {
   "cell_type": "code",
   "execution_count": 22,
   "id": "81b31768",
   "metadata": {},
   "outputs": [
    {
     "data": {
      "text/plain": [
       "2400000.0"
      ]
     },
     "execution_count": 22,
     "metadata": {},
     "output_type": "execute_result"
    }
   ],
   "source": [
    "movies['votes'].max()"
   ]
  },
  {
   "cell_type": "code",
   "execution_count": 23,
   "id": "61a2f8e1",
   "metadata": {},
   "outputs": [
    {
     "data": {
      "text/plain": [
       "0.9587897756911842"
      ]
     },
     "execution_count": 23,
     "metadata": {},
     "output_type": "execute_result"
    }
   ],
   "source": [
    "# Determing the percentage of values under votes column that are not outliers\n",
    "# Dividing the number of values between 0 and upper limit and the total number of observation\n",
    "\n",
    "len(movies[movies['votes'] <= upper_limit_3]) / (len(movies))"
   ]
  },
  {
   "cell_type": "code",
   "execution_count": 24,
   "id": "97f810e5",
   "metadata": {},
   "outputs": [],
   "source": [
    "# About 4% of values under votes column are outliers"
   ]
  },
  {
   "cell_type": "markdown",
   "id": "73250317",
   "metadata": {},
   "source": [
    "### 3) Developing a linear regression for Budget and Gross columns"
   ]
  },
  {
   "cell_type": "code",
   "execution_count": 25,
   "id": "f4f7b592",
   "metadata": {},
   "outputs": [],
   "source": [
    "# Original Hypothesis: If film companies use a higher budget to make a movie, then they are more likely to earn higher gross figures"
   ]
  },
  {
   "cell_type": "code",
   "execution_count": 26,
   "id": "7d615c84",
   "metadata": {},
   "outputs": [
    {
     "data": {
      "image/png": "[encoded data removed]",
      "text/plain": [
       "<Figure size 432x288 with 1 Axes>"
      ]
     },
     "metadata": {
      "needs_background": "light"
     },
     "output_type": "display_data"
    }
   ],
   "source": [
    "# Create a scatterplot using matplotlib for another look at how the chosen variables plot against each other.\n",
    "\n",
    "movies.plot(x = 'budget', y ='gross', style='o') # The style option creates a scatterplot; without it, we only have lines.\n",
    "plt.title('Budget Amount vs Gross Figure ', fontsize = 10, fontweight = 'bold')  \n",
    "plt.xlabel('Budget', fontsize = 10, fontweight = 'bold')  \n",
    "plt.ylabel('Gross', fontsize = 10, fontweight = 'bold')  \n",
    "plt.show()"
   ]
  },
  {
   "cell_type": "code",
   "execution_count": 27,
   "id": "5753de55",
   "metadata": {},
   "outputs": [],
   "source": [
    "# Reshape the variables into NumPy arrays and put them into separate objects.\n",
    "\n",
    "X = movies['budget'].values.reshape(-1,1)\n",
    "y = movies['gross'].values.reshape(-1,1)"
   ]
  },
  {
   "cell_type": "markdown",
   "id": "e46eebcc",
   "metadata": {},
   "source": [
    "#### 3a) Compare how the regression fits the testing set"
   ]
  },
  {
   "cell_type": "code",
   "execution_count": 28,
   "id": "054529fc",
   "metadata": {},
   "outputs": [],
   "source": [
    "# Split data into a training set and a test set.\n",
    "\n",
    "X_train, X_test, y_train, y_test = train_test_split(X, y, test_size=0.3, random_state=0)"
   ]
  },
  {
   "cell_type": "code",
   "execution_count": 29,
   "id": "e66f91a3",
   "metadata": {},
   "outputs": [
    {
     "data": {
      "text/plain": [
       "LinearRegression()"
      ]
     },
     "execution_count": 29,
     "metadata": {},
     "output_type": "execute_result"
    }
   ],
   "source": [
    "# Create a regression object.\n",
    "\n",
    "regression = LinearRegression()  # This is the regression object, which will be fit onto the training set.\n",
    "\n",
    "# Fit the regression object onto the training set.\n",
    "\n",
    "regression.fit(X_train, y_train)"
   ]
  },
  {
   "cell_type": "code",
   "execution_count": 30,
   "id": "e2b8abfb",
   "metadata": {},
   "outputs": [],
   "source": [
    "# Predict the values of y using X.\n",
    "\n",
    "y_predicted = regression.predict(X_test)"
   ]
  },
  {
   "cell_type": "code",
   "execution_count": 31,
   "id": "a581b2e3",
   "metadata": {},
   "outputs": [
    {
     "data": {
      "image/png": "[encoded data removed]",
      "text/plain": [
       "<Figure size 432x288 with 1 Axes>"
      ]
     },
     "metadata": {
      "needs_background": "light"
     },
     "output_type": "display_data"
    }
   ],
   "source": [
    "# Create a plot that shows the regression line from the model on the test set.\n",
    "\n",
    "plot_test = plt\n",
    "plot_test.scatter(X_test, y_test, color= 'gray', s = 15)\n",
    "plot_test.plot(X_test, y_predicted, color= 'blue', linewidth = 3)\n",
    "plot_test.title('Budget Amount vs Gross Figure (Testing Set)', fontsize = 10, fontweight = 'bold')\n",
    "plot_test.xlabel('Budget', fontsize = 10, fontweight = 'bold')\n",
    "plot_test.ylabel('Gross', fontsize = 10, fontweight = 'bold')\n",
    "plot_test.show()"
   ]
  },
  {
   "cell_type": "code",
   "execution_count": 32,
   "id": "4da7ae44",
   "metadata": {},
   "outputs": [],
   "source": [
    "# Create objects that contain the model summary statistics.\n",
    "\n",
    "rmse = mean_squared_error(y_test, y_predicted).round() # This is the mean squared error\n",
    "r2 = r2_score(y_test, y_predicted).round(2) # This is the R2 score. "
   ]
  },
  {
   "cell_type": "code",
   "execution_count": 33,
   "id": "ea32fd10",
   "metadata": {},
   "outputs": [
    {
     "name": "stdout",
     "output_type": "stream",
     "text": [
      "Slope: [[3.5]]\n",
      "Mean squared error:  1.1140881412729668e+16\n",
      "R2 score:  0.53\n"
     ]
    }
   ],
   "source": [
    "# Print the model summary statistics. This is where you evaluate the performance of the model.\n",
    "\n",
    "print('Slope:' ,regression.coef_.round(1))\n",
    "print('Mean squared error: ', rmse)\n",
    "print('R2 score: ', r2)"
   ]
  },
  {
   "cell_type": "code",
   "execution_count": 34,
   "id": "6b722738",
   "metadata": {},
   "outputs": [],
   "source": [
    "# Since this linear regression model is about 53% effective for my testing set, it's not the best fit for my data. \n",
    "# This could be due to data bias or not enough data points to produce significant results. \n",
    "# I'll need a model with more dimensionality to be able to predict what budget is needed to produce more money"
   ]
  },
  {
   "cell_type": "code",
   "execution_count": 35,
   "id": "89b81a35",
   "metadata": {},
   "outputs": [
    {
     "data": {
      "text/html": [
       "<div>\n",
       "<style scoped>\n",
       "    .dataframe tbody tr th:only-of-type {\n",
       "        vertical-align: middle;\n",
       "    }\n",
       "\n",
       "    .dataframe tbody tr th {\n",
       "        vertical-align: top;\n",
       "    }\n",
       "\n",
       "    .dataframe thead th {\n",
       "        text-align: right;\n",
       "    }\n",
       "</style>\n",
       "<table border=\"1\" class=\"dataframe\">\n",
       "  <thead>\n",
       "    <tr style=\"text-align: right;\">\n",
       "      <th></th>\n",
       "      <th>Actual</th>\n",
       "      <th>Predicted</th>\n",
       "    </tr>\n",
       "  </thead>\n",
       "  <tbody>\n",
       "    <tr>\n",
       "      <th>0</th>\n",
       "      <td>487287646.0</td>\n",
       "      <td>3.511728e+08</td>\n",
       "    </tr>\n",
       "    <tr>\n",
       "      <th>1</th>\n",
       "      <td>996171.0</td>\n",
       "      <td>3.936666e+07</td>\n",
       "    </tr>\n",
       "    <tr>\n",
       "      <th>2</th>\n",
       "      <td>20883046.0</td>\n",
       "      <td>1.073021e+08</td>\n",
       "    </tr>\n",
       "    <tr>\n",
       "      <th>3</th>\n",
       "      <td>1434174.0</td>\n",
       "      <td>3.936666e+07</td>\n",
       "    </tr>\n",
       "    <tr>\n",
       "      <th>4</th>\n",
       "      <td>214945591.0</td>\n",
       "      <td>2.466568e+08</td>\n",
       "    </tr>\n",
       "    <tr>\n",
       "      <th>5</th>\n",
       "      <td>13687027.0</td>\n",
       "      <td>3.936666e+07</td>\n",
       "    </tr>\n",
       "    <tr>\n",
       "      <th>6</th>\n",
       "      <td>94019120.0</td>\n",
       "      <td>4.110859e+07</td>\n",
       "    </tr>\n",
       "    <tr>\n",
       "      <th>7</th>\n",
       "      <td>2742912.0</td>\n",
       "      <td>3.065699e+07</td>\n",
       "    </tr>\n",
       "    <tr>\n",
       "      <th>8</th>\n",
       "      <td>2970.0</td>\n",
       "      <td>-1.463330e+07</td>\n",
       "    </tr>\n",
       "    <tr>\n",
       "      <th>9</th>\n",
       "      <td>2105078.0</td>\n",
       "      <td>2.786043e+06</td>\n",
       "    </tr>\n",
       "    <tr>\n",
       "      <th>10</th>\n",
       "      <td>56709981.0</td>\n",
       "      <td>2.292374e+08</td>\n",
       "    </tr>\n",
       "    <tr>\n",
       "      <th>11</th>\n",
       "      <td>4299023.0</td>\n",
       "      <td>3.936666e+07</td>\n",
       "    </tr>\n",
       "    <tr>\n",
       "      <th>12</th>\n",
       "      <td>99378985.0</td>\n",
       "      <td>1.978826e+08</td>\n",
       "    </tr>\n",
       "    <tr>\n",
       "      <th>13</th>\n",
       "      <td>86024005.0</td>\n",
       "      <td>3.762472e+07</td>\n",
       "    </tr>\n",
       "    <tr>\n",
       "      <th>14</th>\n",
       "      <td>961203.0</td>\n",
       "      <td>-1.846555e+07</td>\n",
       "    </tr>\n",
       "    <tr>\n",
       "      <th>15</th>\n",
       "      <td>19868354.0</td>\n",
       "      <td>-1.463330e+07</td>\n",
       "    </tr>\n",
       "    <tr>\n",
       "      <th>16</th>\n",
       "      <td>60329001.0</td>\n",
       "      <td>7.943113e+07</td>\n",
       "    </tr>\n",
       "    <tr>\n",
       "      <th>17</th>\n",
       "      <td>78966486.0</td>\n",
       "      <td>2.786043e+06</td>\n",
       "    </tr>\n",
       "    <tr>\n",
       "      <th>18</th>\n",
       "      <td>2595622.0</td>\n",
       "      <td>-1.811716e+07</td>\n",
       "    </tr>\n",
       "    <tr>\n",
       "      <th>19</th>\n",
       "      <td>765705.0</td>\n",
       "      <td>3.936666e+07</td>\n",
       "    </tr>\n",
       "    <tr>\n",
       "      <th>20</th>\n",
       "      <td>17164820.0</td>\n",
       "      <td>3.936666e+07</td>\n",
       "    </tr>\n",
       "    <tr>\n",
       "      <th>21</th>\n",
       "      <td>125856180.0</td>\n",
       "      <td>9.859241e+07</td>\n",
       "    </tr>\n",
       "    <tr>\n",
       "      <th>22</th>\n",
       "      <td>9645440.0</td>\n",
       "      <td>1.073021e+08</td>\n",
       "    </tr>\n",
       "    <tr>\n",
       "      <th>23</th>\n",
       "      <td>8175346.0</td>\n",
       "      <td>8.291500e+07</td>\n",
       "    </tr>\n",
       "    <tr>\n",
       "      <th>24</th>\n",
       "      <td>25754284.0</td>\n",
       "      <td>2.786043e+06</td>\n",
       "    </tr>\n",
       "    <tr>\n",
       "      <th>25</th>\n",
       "      <td>211622535.0</td>\n",
       "      <td>4.905275e+08</td>\n",
       "    </tr>\n",
       "    <tr>\n",
       "      <th>26</th>\n",
       "      <td>85585177.0</td>\n",
       "      <td>3.936666e+07</td>\n",
       "    </tr>\n",
       "    <tr>\n",
       "      <th>27</th>\n",
       "      <td>19595031.0</td>\n",
       "      <td>-7.665560e+06</td>\n",
       "    </tr>\n",
       "    <tr>\n",
       "      <th>28</th>\n",
       "      <td>4711220.0</td>\n",
       "      <td>2.786043e+06</td>\n",
       "    </tr>\n",
       "    <tr>\n",
       "      <th>29</th>\n",
       "      <td>227817248.0</td>\n",
       "      <td>3.860115e+08</td>\n",
       "    </tr>\n",
       "  </tbody>\n",
       "</table>\n",
       "</div>"
      ],
      "text/plain": [
       "         Actual     Predicted\n",
       "0   487287646.0  3.511728e+08\n",
       "1      996171.0  3.936666e+07\n",
       "2    20883046.0  1.073021e+08\n",
       "3     1434174.0  3.936666e+07\n",
       "4   214945591.0  2.466568e+08\n",
       "5    13687027.0  3.936666e+07\n",
       "6    94019120.0  4.110859e+07\n",
       "7     2742912.0  3.065699e+07\n",
       "8        2970.0 -1.463330e+07\n",
       "9     2105078.0  2.786043e+06\n",
       "10   56709981.0  2.292374e+08\n",
       "11    4299023.0  3.936666e+07\n",
       "12   99378985.0  1.978826e+08\n",
       "13   86024005.0  3.762472e+07\n",
       "14     961203.0 -1.846555e+07\n",
       "15   19868354.0 -1.463330e+07\n",
       "16   60329001.0  7.943113e+07\n",
       "17   78966486.0  2.786043e+06\n",
       "18    2595622.0 -1.811716e+07\n",
       "19     765705.0  3.936666e+07\n",
       "20   17164820.0  3.936666e+07\n",
       "21  125856180.0  9.859241e+07\n",
       "22    9645440.0  1.073021e+08\n",
       "23    8175346.0  8.291500e+07\n",
       "24   25754284.0  2.786043e+06\n",
       "25  211622535.0  4.905275e+08\n",
       "26   85585177.0  3.936666e+07\n",
       "27   19595031.0 -7.665560e+06\n",
       "28    4711220.0  2.786043e+06\n",
       "29  227817248.0  3.860115e+08"
      ]
     },
     "execution_count": 35,
     "metadata": {},
     "output_type": "execute_result"
    }
   ],
   "source": [
    "# Create a dataframe comparing the actual and predicted values of y.\n",
    "\n",
    "data = pd.DataFrame({'Actual': y_test.flatten(), 'Predicted': y_predicted.flatten()})\n",
    "data.head(30)"
   ]
  },
  {
   "cell_type": "code",
   "execution_count": 36,
   "id": "205d34db",
   "metadata": {},
   "outputs": [],
   "source": [
    "# The predicted values are extremely far from the actual values"
   ]
  },
  {
   "cell_type": "markdown",
   "id": "7095bf85",
   "metadata": {},
   "source": [
    "#### 3b) Compare how the regression fits the training set"
   ]
  },
  {
   "cell_type": "code",
   "execution_count": 37,
   "id": "52de5d9a",
   "metadata": {},
   "outputs": [],
   "source": [
    "# Predict.\n",
    "\n",
    "y_predicted_train = regression.predict(X_train) # This is predicting X_train!"
   ]
  },
  {
   "cell_type": "code",
   "execution_count": 38,
   "id": "0029c8b2",
   "metadata": {},
   "outputs": [],
   "source": [
    "rmse = mean_squared_error(y_train, y_predicted_train).round()\n",
    "r2 = r2_score(y_train, y_predicted_train).round(2)"
   ]
  },
  {
   "cell_type": "code",
   "execution_count": 39,
   "id": "870bd5dc",
   "metadata": {},
   "outputs": [
    {
     "name": "stdout",
     "output_type": "stream",
     "text": [
      "Slope: [[3.5]]\n",
      "Mean squared error:  1.2260671569654396e+16\n",
      "R2 score:  0.57\n"
     ]
    }
   ],
   "source": [
    "print('Slope:' ,regression.coef_.round(1))\n",
    "print('Mean squared error: ', rmse)\n",
    "print('R2 score: ', r2)"
   ]
  },
  {
   "cell_type": "code",
   "execution_count": 40,
   "id": "fb5ed182",
   "metadata": {},
   "outputs": [
    {
     "data": {
      "image/png": "[encoded data removed]",
      "text/plain": [
       "<Figure size 432x288 with 1 Axes>"
      ]
     },
     "metadata": {
      "needs_background": "light"
     },
     "output_type": "display_data"
    }
   ],
   "source": [
    "# Visualizing the training set results.\n",
    "\n",
    "plot_test = plt\n",
    "plot_test.scatter(X_train, y_train, color='red', s = 15)\n",
    "plot_test.plot(X_train, y_predicted_train, color='blue', linewidth =3)\n",
    "plot_test.title('Budget Amount vs Gross Figure (Training Set)', fontsize = 10, fontweight = 'bold')\n",
    "plot_test.xlabel('Budget', fontsize = 10, fontweight = 'bold')\n",
    "plot_test.ylabel('Gross', fontsize = 10, fontweight = 'bold')\n",
    "plot_test.show()"
   ]
  },
  {
   "cell_type": "code",
   "execution_count": 41,
   "id": "1552b9e8",
   "metadata": {},
   "outputs": [],
   "source": [
    "# This linear regression model is about 57% effective for my training set, not too much a difference from my testing set"
   ]
  },
  {
   "cell_type": "markdown",
   "id": "2aafc0f2",
   "metadata": {},
   "source": [
    "### 4) Developing a linear regression for Votes and Gross columns"
   ]
  },
  {
   "cell_type": "code",
   "execution_count": 42,
   "id": "05ea8158",
   "metadata": {},
   "outputs": [],
   "source": [
    "# Original Hypothesis: If movies recieved a higher IMDb user vote count, then they are more likely to earn higher gross figures"
   ]
  },
  {
   "cell_type": "code",
   "execution_count": 43,
   "id": "9315afc1",
   "metadata": {},
   "outputs": [
    {
     "data": {
      "image/png": "[encoded data removed]",
      "text/plain": [
       "<Figure size 432x288 with 1 Axes>"
      ]
     },
     "metadata": {
      "needs_background": "light"
     },
     "output_type": "display_data"
    }
   ],
   "source": [
    "# Create a scatterplot using matplotlib for another look at how the chosen variables plot against each other.\n",
    "\n",
    "movies.plot(x = 'votes', y ='gross', style='o') # The style option creates a scatterplot; without it, we only have lines.\n",
    "plt.title('User IMDb Votes vs Gross Figure', fontsize = 10, fontweight = 'bold')  \n",
    "plt.xlabel('Votes', fontsize = 10, fontweight = 'bold')  \n",
    "plt.ylabel('Gross', fontsize = 10, fontweight = 'bold')  \n",
    "plt.show()"
   ]
  },
  {
   "cell_type": "code",
   "execution_count": 44,
   "id": "f8ddd3d6",
   "metadata": {},
   "outputs": [],
   "source": [
    "# Reshape the variables into NumPy arrays and put them into separate objects.\n",
    "\n",
    "X_2 = movies['votes'].values.reshape(-1,1)\n",
    "y_2 = movies['gross'].values.reshape(-1,1)"
   ]
  },
  {
   "cell_type": "markdown",
   "id": "7e0ba10c",
   "metadata": {},
   "source": [
    "#### 4a) Compare how the regression fits the testing set"
   ]
  },
  {
   "cell_type": "code",
   "execution_count": 45,
   "id": "74112f61",
   "metadata": {},
   "outputs": [],
   "source": [
    "# Split data into a training set and a test set.\n",
    "\n",
    "X_train_2, X_test_2, y_train_2, y_test_2 = train_test_split(X_2, y_2, test_size = 0.3, random_state=0)"
   ]
  },
  {
   "cell_type": "code",
   "execution_count": 46,
   "id": "3047964e",
   "metadata": {},
   "outputs": [
    {
     "data": {
      "text/plain": [
       "LinearRegression()"
      ]
     },
     "execution_count": 46,
     "metadata": {},
     "output_type": "execute_result"
    }
   ],
   "source": [
    "# Create a regression object.\n",
    "\n",
    "regression = LinearRegression()  # This is the regression object, which will be fit onto the training set.\n",
    "\n",
    "# Fit the regression object onto the training set.\n",
    "\n",
    "regression.fit(X_train_2, y_train_2)"
   ]
  },
  {
   "cell_type": "code",
   "execution_count": 47,
   "id": "07eb9dc4",
   "metadata": {},
   "outputs": [],
   "source": [
    "# Predict the values of y using X.\n",
    "\n",
    "y_predicted_2 = regression.predict(X_test_2)"
   ]
  },
  {
   "cell_type": "code",
   "execution_count": 48,
   "id": "775d1e48",
   "metadata": {},
   "outputs": [
    {
     "data": {
      "image/png": "[encoded data removed]",
      "text/plain": [
       "<Figure size 432x288 with 1 Axes>"
      ]
     },
     "metadata": {
      "needs_background": "light"
     },
     "output_type": "display_data"
    }
   ],
   "source": [
    "# Create a plot that shows the regression line from the model on the test set.\n",
    "\n",
    "plot_test = plt\n",
    "plot_test.scatter(X_test_2, y_test_2, color= 'gray', s = 15)\n",
    "plot_test.plot(X_test_2, y_predicted_2, color= 'blue', linewidth = 3)\n",
    "plot_test.title('User IMDb Votes vs Gross Figure (Testing Set)', fontsize = 10, fontweight = 'bold')\n",
    "plot_test.xlabel('Votes', fontsize = 10, fontweight = 'bold')\n",
    "plot_test.ylabel('Gross', fontsize = 10, fontweight = 'bold')\n",
    "plot_test.show()"
   ]
  },
  {
   "cell_type": "code",
   "execution_count": 49,
   "id": "f9bd683a",
   "metadata": {},
   "outputs": [],
   "source": [
    "# Create objects that contain the model summary statistics.\n",
    "\n",
    "rmse = mean_squared_error(y_test_2, y_predicted_2).round() # This is the mean squared error\n",
    "r2 = r2_score(y_test_2, y_predicted_2).round(2) # This is the R2 score. "
   ]
  },
  {
   "cell_type": "code",
   "execution_count": 50,
   "id": "57e43940",
   "metadata": {},
   "outputs": [
    {
     "name": "stdout",
     "output_type": "stream",
     "text": [
      "Slope: [[654.5]]\n",
      "Mean squared error:  1.4202338242634792e+16\n",
      "R2 score:  0.4\n"
     ]
    }
   ],
   "source": [
    "print('Slope:' ,regression.coef_.round(1))\n",
    "print('Mean squared error: ', rmse)\n",
    "print('R2 score: ', r2)"
   ]
  },
  {
   "cell_type": "code",
   "execution_count": 51,
   "id": "ca95d1cf",
   "metadata": {},
   "outputs": [],
   "source": [
    "# Since this linear regression model is about 40% effective for my testing set, it's not the best fit for my data. \n",
    "# This could be due to data bias or not enough data points to produce significant results. \n",
    "# I'll need a model with more dimensionality to be able to predict how many votes will produce on IMDb"
   ]
  },
  {
   "cell_type": "code",
   "execution_count": 52,
   "id": "e6942142",
   "metadata": {},
   "outputs": [
    {
     "data": {
      "text/html": [
       "<div>\n",
       "<style scoped>\n",
       "    .dataframe tbody tr th:only-of-type {\n",
       "        vertical-align: middle;\n",
       "    }\n",
       "\n",
       "    .dataframe tbody tr th {\n",
       "        vertical-align: top;\n",
       "    }\n",
       "\n",
       "    .dataframe thead th {\n",
       "        text-align: right;\n",
       "    }\n",
       "</style>\n",
       "<table border=\"1\" class=\"dataframe\">\n",
       "  <thead>\n",
       "    <tr style=\"text-align: right;\">\n",
       "      <th></th>\n",
       "      <th>Actual</th>\n",
       "      <th>Predicted</th>\n",
       "    </tr>\n",
       "  </thead>\n",
       "  <tbody>\n",
       "    <tr>\n",
       "      <th>0</th>\n",
       "      <td>487287646.0</td>\n",
       "      <td>3.225923e+08</td>\n",
       "    </tr>\n",
       "    <tr>\n",
       "      <th>1</th>\n",
       "      <td>996171.0</td>\n",
       "      <td>2.387801e+07</td>\n",
       "    </tr>\n",
       "    <tr>\n",
       "      <th>2</th>\n",
       "      <td>20883046.0</td>\n",
       "      <td>2.741232e+07</td>\n",
       "    </tr>\n",
       "    <tr>\n",
       "      <th>3</th>\n",
       "      <td>1434174.0</td>\n",
       "      <td>2.144065e+07</td>\n",
       "    </tr>\n",
       "    <tr>\n",
       "      <th>4</th>\n",
       "      <td>214945591.0</td>\n",
       "      <td>1.694390e+08</td>\n",
       "    </tr>\n",
       "    <tr>\n",
       "      <th>5</th>\n",
       "      <td>13687027.0</td>\n",
       "      <td>2.243811e+07</td>\n",
       "    </tr>\n",
       "    <tr>\n",
       "      <th>6</th>\n",
       "      <td>94019120.0</td>\n",
       "      <td>6.930039e+07</td>\n",
       "    </tr>\n",
       "    <tr>\n",
       "      <th>7</th>\n",
       "      <td>2742912.0</td>\n",
       "      <td>2.557972e+07</td>\n",
       "    </tr>\n",
       "    <tr>\n",
       "      <th>8</th>\n",
       "      <td>2970.0</td>\n",
       "      <td>2.211086e+07</td>\n",
       "    </tr>\n",
       "    <tr>\n",
       "      <th>9</th>\n",
       "      <td>2105078.0</td>\n",
       "      <td>2.256901e+07</td>\n",
       "    </tr>\n",
       "    <tr>\n",
       "      <th>10</th>\n",
       "      <td>56709981.0</td>\n",
       "      <td>3.919334e+07</td>\n",
       "    </tr>\n",
       "    <tr>\n",
       "      <th>11</th>\n",
       "      <td>4299023.0</td>\n",
       "      <td>2.152181e+07</td>\n",
       "    </tr>\n",
       "    <tr>\n",
       "      <th>12</th>\n",
       "      <td>99378985.0</td>\n",
       "      <td>2.250716e+08</td>\n",
       "    </tr>\n",
       "    <tr>\n",
       "      <th>13</th>\n",
       "      <td>86024005.0</td>\n",
       "      <td>3.193198e+08</td>\n",
       "    </tr>\n",
       "    <tr>\n",
       "      <th>14</th>\n",
       "      <td>961203.0</td>\n",
       "      <td>5.817387e+07</td>\n",
       "    </tr>\n",
       "    <tr>\n",
       "      <th>15</th>\n",
       "      <td>19868354.0</td>\n",
       "      <td>3.003032e+07</td>\n",
       "    </tr>\n",
       "    <tr>\n",
       "      <th>16</th>\n",
       "      <td>60329001.0</td>\n",
       "      <td>7.977240e+07</td>\n",
       "    </tr>\n",
       "    <tr>\n",
       "      <th>17</th>\n",
       "      <td>78966486.0</td>\n",
       "      <td>1.871106e+08</td>\n",
       "    </tr>\n",
       "    <tr>\n",
       "      <th>18</th>\n",
       "      <td>2595622.0</td>\n",
       "      <td>6.275538e+07</td>\n",
       "    </tr>\n",
       "    <tr>\n",
       "      <th>19</th>\n",
       "      <td>765705.0</td>\n",
       "      <td>2.806682e+07</td>\n",
       "    </tr>\n",
       "    <tr>\n",
       "      <th>20</th>\n",
       "      <td>17164820.0</td>\n",
       "      <td>1.223150e+08</td>\n",
       "    </tr>\n",
       "    <tr>\n",
       "      <th>21</th>\n",
       "      <td>125856180.0</td>\n",
       "      <td>5.293786e+07</td>\n",
       "    </tr>\n",
       "    <tr>\n",
       "      <th>22</th>\n",
       "      <td>9645440.0</td>\n",
       "      <td>2.571062e+07</td>\n",
       "    </tr>\n",
       "    <tr>\n",
       "      <th>23</th>\n",
       "      <td>8175346.0</td>\n",
       "      <td>4.704735e+07</td>\n",
       "    </tr>\n",
       "    <tr>\n",
       "      <th>24</th>\n",
       "      <td>25754284.0</td>\n",
       "      <td>2.937582e+07</td>\n",
       "    </tr>\n",
       "    <tr>\n",
       "      <th>25</th>\n",
       "      <td>211622535.0</td>\n",
       "      <td>1.570035e+08</td>\n",
       "    </tr>\n",
       "    <tr>\n",
       "      <th>26</th>\n",
       "      <td>85585177.0</td>\n",
       "      <td>8.435391e+07</td>\n",
       "    </tr>\n",
       "    <tr>\n",
       "      <th>27</th>\n",
       "      <td>19595031.0</td>\n",
       "      <td>3.592083e+07</td>\n",
       "    </tr>\n",
       "    <tr>\n",
       "      <th>28</th>\n",
       "      <td>4711220.0</td>\n",
       "      <td>2.453252e+07</td>\n",
       "    </tr>\n",
       "    <tr>\n",
       "      <th>29</th>\n",
       "      <td>227817248.0</td>\n",
       "      <td>1.236240e+08</td>\n",
       "    </tr>\n",
       "  </tbody>\n",
       "</table>\n",
       "</div>"
      ],
      "text/plain": [
       "         Actual     Predicted\n",
       "0   487287646.0  3.225923e+08\n",
       "1      996171.0  2.387801e+07\n",
       "2    20883046.0  2.741232e+07\n",
       "3     1434174.0  2.144065e+07\n",
       "4   214945591.0  1.694390e+08\n",
       "5    13687027.0  2.243811e+07\n",
       "6    94019120.0  6.930039e+07\n",
       "7     2742912.0  2.557972e+07\n",
       "8        2970.0  2.211086e+07\n",
       "9     2105078.0  2.256901e+07\n",
       "10   56709981.0  3.919334e+07\n",
       "11    4299023.0  2.152181e+07\n",
       "12   99378985.0  2.250716e+08\n",
       "13   86024005.0  3.193198e+08\n",
       "14     961203.0  5.817387e+07\n",
       "15   19868354.0  3.003032e+07\n",
       "16   60329001.0  7.977240e+07\n",
       "17   78966486.0  1.871106e+08\n",
       "18    2595622.0  6.275538e+07\n",
       "19     765705.0  2.806682e+07\n",
       "20   17164820.0  1.223150e+08\n",
       "21  125856180.0  5.293786e+07\n",
       "22    9645440.0  2.571062e+07\n",
       "23    8175346.0  4.704735e+07\n",
       "24   25754284.0  2.937582e+07\n",
       "25  211622535.0  1.570035e+08\n",
       "26   85585177.0  8.435391e+07\n",
       "27   19595031.0  3.592083e+07\n",
       "28    4711220.0  2.453252e+07\n",
       "29  227817248.0  1.236240e+08"
      ]
     },
     "execution_count": 52,
     "metadata": {},
     "output_type": "execute_result"
    }
   ],
   "source": [
    "# Create a dataframe comparing the actual and predicted values of y.\n",
    "\n",
    "data = pd.DataFrame({'Actual': y_test_2.flatten(), 'Predicted': y_predicted_2.flatten()})\n",
    "data.head(30)"
   ]
  },
  {
   "cell_type": "code",
   "execution_count": 53,
   "id": "906c6df9",
   "metadata": {},
   "outputs": [],
   "source": [
    "# The predicted values are extremely far from the actual values"
   ]
  },
  {
   "cell_type": "markdown",
   "id": "d743de4e",
   "metadata": {},
   "source": [
    "#### 4b) Compare how the regression fits the testing set"
   ]
  },
  {
   "cell_type": "code",
   "execution_count": 54,
   "id": "d4c21c81",
   "metadata": {},
   "outputs": [],
   "source": [
    "y_predicted_train_2 = regression.predict(X_train_2) # This is predicting X_2_train!"
   ]
  },
  {
   "cell_type": "code",
   "execution_count": 55,
   "id": "620ac7dd",
   "metadata": {},
   "outputs": [],
   "source": [
    "rmse = mean_squared_error(y_train_2, y_predicted_train_2).round()\n",
    "r2 = r2_score(y_train_2, y_predicted_train_2).round(2)"
   ]
  },
  {
   "cell_type": "code",
   "execution_count": 56,
   "id": "fa473417",
   "metadata": {},
   "outputs": [
    {
     "name": "stdout",
     "output_type": "stream",
     "text": [
      "Slope: [[654.5]]\n",
      "Mean squared error:  1.6976093616335012e+16\n",
      "R2 score:  0.4\n"
     ]
    }
   ],
   "source": [
    "print('Slope:' ,regression.coef_.round(1))\n",
    "print('Mean squared error: ', rmse)\n",
    "print('R2 score: ', r2)"
   ]
  },
  {
   "cell_type": "code",
   "execution_count": 57,
   "id": "bda12374",
   "metadata": {},
   "outputs": [
    {
     "data": {
      "image/png": "[encoded data removed]",
      "text/plain": [
       "<Figure size 432x288 with 1 Axes>"
      ]
     },
     "metadata": {
      "needs_background": "light"
     },
     "output_type": "display_data"
    }
   ],
   "source": [
    "# Visualizing the training set results.\n",
    "\n",
    "plot_test = plt\n",
    "plot_test.scatter(X_train_2, y_train_2, color='red', s = 15)\n",
    "plot_test.plot(X_train_2, y_predicted_train_2, color='blue', linewidth =3)\n",
    "plot_test.title('User IMDb Votes vs Gross Figure (Training Set)', fontsize = 10, fontweight = 'bold')\n",
    "plot_test.xlabel('Votes', fontsize = 10, fontweight = 'bold')\n",
    "plot_test.ylabel('Gross', fontsize = 10, fontweight = 'bold')\n",
    "plot_test.show()"
   ]
  },
  {
   "cell_type": "code",
   "execution_count": 58,
   "id": "57845393",
   "metadata": {},
   "outputs": [],
   "source": [
    "# This linear regression model is about 40% effective for my training set, the same score received for the testing set"
   ]
  },
  {
   "cell_type": "markdown",
   "id": "b0babca8",
   "metadata": {},
   "source": [
    "### 5) Running the regressions again but without outliers"
   ]
  },
  {
   "cell_type": "markdown",
   "id": "59745bb0",
   "metadata": {},
   "source": [
    "#### 5a)  Budget vs Gross"
   ]
  },
  {
   "cell_type": "code",
   "execution_count": 59,
   "id": "f6c8fd78",
   "metadata": {},
   "outputs": [],
   "source": [
    "# Subset of dataframe where values of gross column is within 2 standard deviations of the mean\n",
    "\n",
    "movies_no_outliers = movies[movies['gross'] <= upper_limit_1]  "
   ]
  },
  {
   "cell_type": "code",
   "execution_count": 60,
   "id": "fc07e02f",
   "metadata": {},
   "outputs": [
    {
     "data": {
      "image/png": "[encoded data removed]",
      "text/plain": [
       "<Figure size 432x288 with 1 Axes>"
      ]
     },
     "metadata": {
      "needs_background": "light"
     },
     "output_type": "display_data"
    }
   ],
   "source": [
    "movies_no_outliers.plot(x = 'budget', y ='gross', style='o') # The style option creates a scatterplot; without it, we only have lines.\n",
    "plt.title('Budget Amount vs Gross Figure ', fontsize = 10, fontweight = 'bold')  \n",
    "plt.xlabel('Budget', fontsize = 10, fontweight = 'bold')  \n",
    "plt.ylabel('Gross', fontsize = 10, fontweight = 'bold')  \n",
    "plt.show()"
   ]
  },
  {
   "cell_type": "code",
   "execution_count": 61,
   "id": "e1611281",
   "metadata": {},
   "outputs": [],
   "source": [
    "# Reshape the variables into NumPy arrays and put them into separate objects.\n",
    "\n",
    "X_3 = movies_no_outliers['budget'].values.reshape(-1,1)\n",
    "y_3 = movies_no_outliers['gross'].values.reshape(-1,1)"
   ]
  },
  {
   "cell_type": "code",
   "execution_count": 62,
   "id": "1dbca87c",
   "metadata": {},
   "outputs": [],
   "source": [
    "X_train_3, X_test_3, y_train_3, y_test_3 = train_test_split(X_3, y_3, test_size=0.3, random_state=0)"
   ]
  },
  {
   "cell_type": "code",
   "execution_count": 63,
   "id": "a762670d",
   "metadata": {},
   "outputs": [
    {
     "data": {
      "text/plain": [
       "LinearRegression()"
      ]
     },
     "execution_count": 63,
     "metadata": {},
     "output_type": "execute_result"
    }
   ],
   "source": [
    "# Run and fit the regression.\n",
    "\n",
    "regression = LinearRegression()  \n",
    "regression.fit(X_train_3, y_train_3)"
   ]
  },
  {
   "cell_type": "code",
   "execution_count": 64,
   "id": "3edde329",
   "metadata": {},
   "outputs": [],
   "source": [
    "# Predict.\n",
    "\n",
    "y_predicted_3 = regression.predict(X_test_3)"
   ]
  },
  {
   "cell_type": "code",
   "execution_count": 65,
   "id": "6a5fd014",
   "metadata": {},
   "outputs": [],
   "source": [
    "rmse = mean_squared_error(y_test_3, y_predicted_3).round()\n",
    "r2 = r2_score(y_test_3, y_predicted_3).round(2)"
   ]
  },
  {
   "cell_type": "code",
   "execution_count": 66,
   "id": "70172d69",
   "metadata": {},
   "outputs": [
    {
     "name": "stdout",
     "output_type": "stream",
     "text": [
      "Slope: [[1.8]]\n",
      "Mean squared error:  3635181539902676.0\n",
      "R2 score:  0.43\n"
     ]
    }
   ],
   "source": [
    "print('Slope:' ,regression.coef_.round(1))\n",
    "print('Mean squared error: ', rmse)\n",
    "print('R2 score: ', r2)"
   ]
  },
  {
   "cell_type": "code",
   "execution_count": 67,
   "id": "5701cda6",
   "metadata": {},
   "outputs": [],
   "source": [
    "# By getting rid of outliers, this lowered the R2 score for the testing set, didn't make the model better"
   ]
  },
  {
   "cell_type": "code",
   "execution_count": 68,
   "id": "c0cb7cb1",
   "metadata": {},
   "outputs": [
    {
     "data": {
      "image/png": "[encoded data removed]",
      "text/plain": [
       "<Figure size 432x288 with 1 Axes>"
      ]
     },
     "metadata": {
      "needs_background": "light"
     },
     "output_type": "display_data"
    }
   ],
   "source": [
    "# Visualizing the test set results.\n",
    "\n",
    "plot_test = plt\n",
    "plot_test.scatter(X_test_3, y_test_3, color='gray', s = 15)\n",
    "plot_test.plot(X_train_3, regression.predict(X_train_3), color='red', linewidth = 3)\n",
    "plot_test.title('Budget Amount vs Gross Figure (Testing Set)', fontsize = 10, fontweight = 'bold')\n",
    "plot_test.xlabel('Budget', fontsize = 10, fontweight = 'bold')\n",
    "plot_test.ylabel('Gross', fontsize = 10, fontweight = 'bold')\n",
    "plot_test.show()"
   ]
  },
  {
   "cell_type": "code",
   "execution_count": 69,
   "id": "de309ebe",
   "metadata": {},
   "outputs": [
    {
     "data": {
      "text/html": [
       "<div>\n",
       "<style scoped>\n",
       "    .dataframe tbody tr th:only-of-type {\n",
       "        vertical-align: middle;\n",
       "    }\n",
       "\n",
       "    .dataframe tbody tr th {\n",
       "        vertical-align: top;\n",
       "    }\n",
       "\n",
       "    .dataframe thead th {\n",
       "        text-align: right;\n",
       "    }\n",
       "</style>\n",
       "<table border=\"1\" class=\"dataframe\">\n",
       "  <thead>\n",
       "    <tr style=\"text-align: right;\">\n",
       "      <th></th>\n",
       "      <th>Actual</th>\n",
       "      <th>Predicted</th>\n",
       "    </tr>\n",
       "  </thead>\n",
       "  <tbody>\n",
       "    <tr>\n",
       "      <th>0</th>\n",
       "      <td>13818181.0</td>\n",
       "      <td>2.293418e+07</td>\n",
       "    </tr>\n",
       "    <tr>\n",
       "      <th>1</th>\n",
       "      <td>39976235.0</td>\n",
       "      <td>9.280179e+07</td>\n",
       "    </tr>\n",
       "    <tr>\n",
       "      <th>2</th>\n",
       "      <td>4412203.0</td>\n",
       "      <td>3.856246e+07</td>\n",
       "    </tr>\n",
       "    <tr>\n",
       "      <th>3</th>\n",
       "      <td>4376819.0</td>\n",
       "      <td>1.925694e+07</td>\n",
       "    </tr>\n",
       "    <tr>\n",
       "      <th>4</th>\n",
       "      <td>113100873.0</td>\n",
       "      <td>6.889972e+07</td>\n",
       "    </tr>\n",
       "    <tr>\n",
       "      <th>5</th>\n",
       "      <td>147332697.0</td>\n",
       "      <td>5.970661e+07</td>\n",
       "    </tr>\n",
       "    <tr>\n",
       "      <th>6</th>\n",
       "      <td>55003135.0</td>\n",
       "      <td>1.111880e+08</td>\n",
       "    </tr>\n",
       "    <tr>\n",
       "      <th>7</th>\n",
       "      <td>158964610.0</td>\n",
       "      <td>1.571535e+08</td>\n",
       "    </tr>\n",
       "    <tr>\n",
       "      <th>8</th>\n",
       "      <td>44926706.0</td>\n",
       "      <td>3.396591e+07</td>\n",
       "    </tr>\n",
       "    <tr>\n",
       "      <th>9</th>\n",
       "      <td>5725482.0</td>\n",
       "      <td>3.856246e+07</td>\n",
       "    </tr>\n",
       "    <tr>\n",
       "      <th>10</th>\n",
       "      <td>175372502.0</td>\n",
       "      <td>8.360869e+07</td>\n",
       "    </tr>\n",
       "    <tr>\n",
       "      <th>11</th>\n",
       "      <td>140980.0</td>\n",
       "      <td>3.856246e+07</td>\n",
       "    </tr>\n",
       "    <tr>\n",
       "      <th>12</th>\n",
       "      <td>7433663.0</td>\n",
       "      <td>1.925694e+07</td>\n",
       "    </tr>\n",
       "    <tr>\n",
       "      <th>13</th>\n",
       "      <td>14009368.0</td>\n",
       "      <td>3.856246e+07</td>\n",
       "    </tr>\n",
       "    <tr>\n",
       "      <th>14</th>\n",
       "      <td>191466556.0</td>\n",
       "      <td>1.516377e+08</td>\n",
       "    </tr>\n",
       "    <tr>\n",
       "      <th>15</th>\n",
       "      <td>10045677.0</td>\n",
       "      <td>3.856246e+07</td>\n",
       "    </tr>\n",
       "    <tr>\n",
       "      <th>16</th>\n",
       "      <td>6857733.0</td>\n",
       "      <td>3.856246e+07</td>\n",
       "    </tr>\n",
       "    <tr>\n",
       "      <th>17</th>\n",
       "      <td>2193982.0</td>\n",
       "      <td>5.602937e+07</td>\n",
       "    </tr>\n",
       "    <tr>\n",
       "      <th>18</th>\n",
       "      <td>89433436.0</td>\n",
       "      <td>3.856246e+07</td>\n",
       "    </tr>\n",
       "    <tr>\n",
       "      <th>19</th>\n",
       "      <td>10125417.0</td>\n",
       "      <td>3.856246e+07</td>\n",
       "    </tr>\n",
       "    <tr>\n",
       "      <th>20</th>\n",
       "      <td>2443487.0</td>\n",
       "      <td>3.856246e+07</td>\n",
       "    </tr>\n",
       "    <tr>\n",
       "      <th>21</th>\n",
       "      <td>3178542.0</td>\n",
       "      <td>3.856246e+07</td>\n",
       "    </tr>\n",
       "    <tr>\n",
       "      <th>22</th>\n",
       "      <td>20205757.0</td>\n",
       "      <td>1.008618e+06</td>\n",
       "    </tr>\n",
       "    <tr>\n",
       "      <th>23</th>\n",
       "      <td>92649419.0</td>\n",
       "      <td>5.235212e+07</td>\n",
       "    </tr>\n",
       "    <tr>\n",
       "      <th>24</th>\n",
       "      <td>5000000.0</td>\n",
       "      <td>3.856246e+07</td>\n",
       "    </tr>\n",
       "    <tr>\n",
       "      <th>25</th>\n",
       "      <td>105983.0</td>\n",
       "      <td>1.557969e+07</td>\n",
       "    </tr>\n",
       "    <tr>\n",
       "      <th>26</th>\n",
       "      <td>6326051.0</td>\n",
       "      <td>3.856246e+07</td>\n",
       "    </tr>\n",
       "    <tr>\n",
       "      <th>27</th>\n",
       "      <td>34622504.0</td>\n",
       "      <td>2.845004e+07</td>\n",
       "    </tr>\n",
       "    <tr>\n",
       "      <th>28</th>\n",
       "      <td>141069860.0</td>\n",
       "      <td>7.441558e+07</td>\n",
       "    </tr>\n",
       "    <tr>\n",
       "      <th>29</th>\n",
       "      <td>3534313.0</td>\n",
       "      <td>2.845004e+07</td>\n",
       "    </tr>\n",
       "  </tbody>\n",
       "</table>\n",
       "</div>"
      ],
      "text/plain": [
       "         Actual     Predicted\n",
       "0    13818181.0  2.293418e+07\n",
       "1    39976235.0  9.280179e+07\n",
       "2     4412203.0  3.856246e+07\n",
       "3     4376819.0  1.925694e+07\n",
       "4   113100873.0  6.889972e+07\n",
       "5   147332697.0  5.970661e+07\n",
       "6    55003135.0  1.111880e+08\n",
       "7   158964610.0  1.571535e+08\n",
       "8    44926706.0  3.396591e+07\n",
       "9     5725482.0  3.856246e+07\n",
       "10  175372502.0  8.360869e+07\n",
       "11     140980.0  3.856246e+07\n",
       "12    7433663.0  1.925694e+07\n",
       "13   14009368.0  3.856246e+07\n",
       "14  191466556.0  1.516377e+08\n",
       "15   10045677.0  3.856246e+07\n",
       "16    6857733.0  3.856246e+07\n",
       "17    2193982.0  5.602937e+07\n",
       "18   89433436.0  3.856246e+07\n",
       "19   10125417.0  3.856246e+07\n",
       "20    2443487.0  3.856246e+07\n",
       "21    3178542.0  3.856246e+07\n",
       "22   20205757.0  1.008618e+06\n",
       "23   92649419.0  5.235212e+07\n",
       "24    5000000.0  3.856246e+07\n",
       "25     105983.0  1.557969e+07\n",
       "26    6326051.0  3.856246e+07\n",
       "27   34622504.0  2.845004e+07\n",
       "28  141069860.0  7.441558e+07\n",
       "29    3534313.0  2.845004e+07"
      ]
     },
     "execution_count": 69,
     "metadata": {},
     "output_type": "execute_result"
    }
   ],
   "source": [
    "# Create a dataframe comparing the actual and predicted values of y.\n",
    "\n",
    "data = pd.DataFrame({'Actual': y_test_3.flatten(), 'Predicted': y_predicted_3.flatten()})\n",
    "data.head(30)"
   ]
  },
  {
   "cell_type": "code",
   "execution_count": 70,
   "id": "f2cbd2d5",
   "metadata": {},
   "outputs": [],
   "source": [
    "# The predicted values are relatively extremely far from the actual values"
   ]
  },
  {
   "cell_type": "markdown",
   "id": "e1d08da4",
   "metadata": {},
   "source": [
    "#### 5b)  Votes vs Gross"
   ]
  },
  {
   "cell_type": "code",
   "execution_count": 71,
   "id": "1ff5fce5",
   "metadata": {},
   "outputs": [
    {
     "data": {
      "image/png": "[encoded data removed]",
      "text/plain": [
       "<Figure size 432x288 with 1 Axes>"
      ]
     },
     "metadata": {
      "needs_background": "light"
     },
     "output_type": "display_data"
    }
   ],
   "source": [
    "movies_no_outliers.plot(x = 'votes', y ='gross', style='o') # The style option creates a scatterplot; without it, we only have lines.\n",
    "plt.title('User IMDb Votes vs Gross Figure ', fontsize = 10, fontweight = 'bold')  \n",
    "plt.xlabel('Votes', fontsize = 10, fontweight = 'bold')  \n",
    "plt.ylabel('Gross', fontsize = 10, fontweight = 'bold')  \n",
    "plt.show()"
   ]
  },
  {
   "cell_type": "code",
   "execution_count": 72,
   "id": "2ad79789",
   "metadata": {},
   "outputs": [],
   "source": [
    "# Reshape the variables into NumPy arrays and put them into separate objects.\n",
    "\n",
    "X_4 = movies_no_outliers['votes'].values.reshape(-1,1)\n",
    "y_4 = movies_no_outliers['gross'].values.reshape(-1,1)"
   ]
  },
  {
   "cell_type": "code",
   "execution_count": 73,
   "id": "559cad19",
   "metadata": {},
   "outputs": [],
   "source": [
    "X_train_4, X_test_4, y_train_4, y_test_4 = train_test_split(X_4, y_4, test_size=0.3, random_state=0)"
   ]
  },
  {
   "cell_type": "code",
   "execution_count": 74,
   "id": "42dfa61e",
   "metadata": {},
   "outputs": [
    {
     "data": {
      "text/plain": [
       "LinearRegression()"
      ]
     },
     "execution_count": 74,
     "metadata": {},
     "output_type": "execute_result"
    }
   ],
   "source": [
    "# Run and fit the regression.\n",
    "\n",
    "regression = LinearRegression()  \n",
    "regression.fit(X_train_4, y_train_4)"
   ]
  },
  {
   "cell_type": "code",
   "execution_count": 75,
   "id": "41d63121",
   "metadata": {},
   "outputs": [],
   "source": [
    "# Predict.\n",
    "\n",
    "y_predicted_4 = regression.predict(X_test_4)"
   ]
  },
  {
   "cell_type": "code",
   "execution_count": 76,
   "id": "aeea2d77",
   "metadata": {},
   "outputs": [],
   "source": [
    "rmse = mean_squared_error(y_test_4, y_predicted_4).round()\n",
    "r2 = r2_score(y_test_4, y_predicted_4).round(2)"
   ]
  },
  {
   "cell_type": "code",
   "execution_count": 77,
   "id": "6f7e7082",
   "metadata": {},
   "outputs": [
    {
     "name": "stdout",
     "output_type": "stream",
     "text": [
      "Slope: [[334.6]]\n",
      "Mean squared error:  4390600781186680.0\n",
      "R2 score:  0.31\n"
     ]
    }
   ],
   "source": [
    "print('Slope:' ,regression.coef_.round(1))\n",
    "print('Mean squared error: ', rmse)\n",
    "print('R2 score: ', r2)"
   ]
  },
  {
   "cell_type": "code",
   "execution_count": 78,
   "id": "a70d607e",
   "metadata": {},
   "outputs": [],
   "source": [
    "# By getting rid of outliers, this lowered the R2 score for the testing set, didn't make the model better"
   ]
  },
  {
   "cell_type": "code",
   "execution_count": 79,
   "id": "4f8e74e8",
   "metadata": {},
   "outputs": [
    {
     "data": {
      "image/png": "[encoded data removed]",
      "text/plain": [
       "<Figure size 432x288 with 1 Axes>"
      ]
     },
     "metadata": {
      "needs_background": "light"
     },
     "output_type": "display_data"
    }
   ],
   "source": [
    "# Visualizing the test set results.\n",
    "\n",
    "plot_test = plt\n",
    "plot_test.scatter(X_test_4, y_test_4, color='gray', s = 15)\n",
    "plot_test.plot(X_train_4, regression.predict(X_train_4), color='red', linewidth = 3)\n",
    "plot_test.title('IMDb User Votes vs Gross Figure (Testing Set)', fontsize = 10, fontweight = 'bold')\n",
    "plot_test.xlabel('Votes', fontsize = 10, fontweight = 'bold')\n",
    "plot_test.ylabel('Gross', fontsize = 10, fontweight = 'bold')\n",
    "plot_test.show()"
   ]
  },
  {
   "cell_type": "code",
   "execution_count": 80,
   "id": "dace0c57",
   "metadata": {},
   "outputs": [
    {
     "data": {
      "text/html": [
       "<div>\n",
       "<style scoped>\n",
       "    .dataframe tbody tr th:only-of-type {\n",
       "        vertical-align: middle;\n",
       "    }\n",
       "\n",
       "    .dataframe tbody tr th {\n",
       "        vertical-align: top;\n",
       "    }\n",
       "\n",
       "    .dataframe thead th {\n",
       "        text-align: right;\n",
       "    }\n",
       "</style>\n",
       "<table border=\"1\" class=\"dataframe\">\n",
       "  <thead>\n",
       "    <tr style=\"text-align: right;\">\n",
       "      <th></th>\n",
       "      <th>Actual</th>\n",
       "      <th>Predicted</th>\n",
       "    </tr>\n",
       "  </thead>\n",
       "  <tbody>\n",
       "    <tr>\n",
       "      <th>0</th>\n",
       "      <td>13818181.0</td>\n",
       "      <td>3.862137e+07</td>\n",
       "    </tr>\n",
       "    <tr>\n",
       "      <th>1</th>\n",
       "      <td>39976235.0</td>\n",
       "      <td>3.962519e+07</td>\n",
       "    </tr>\n",
       "    <tr>\n",
       "      <th>2</th>\n",
       "      <td>4412203.0</td>\n",
       "      <td>3.192920e+07</td>\n",
       "    </tr>\n",
       "    <tr>\n",
       "      <th>3</th>\n",
       "      <td>4376819.0</td>\n",
       "      <td>2.838236e+07</td>\n",
       "    </tr>\n",
       "    <tr>\n",
       "      <th>4</th>\n",
       "      <td>113100873.0</td>\n",
       "      <td>7.174758e+07</td>\n",
       "    </tr>\n",
       "    <tr>\n",
       "      <th>5</th>\n",
       "      <td>147332697.0</td>\n",
       "      <td>1.922065e+08</td>\n",
       "    </tr>\n",
       "    <tr>\n",
       "      <th>6</th>\n",
       "      <td>55003135.0</td>\n",
       "      <td>5.434796e+07</td>\n",
       "    </tr>\n",
       "    <tr>\n",
       "      <th>7</th>\n",
       "      <td>158964610.0</td>\n",
       "      <td>1.108967e+08</td>\n",
       "    </tr>\n",
       "    <tr>\n",
       "      <th>8</th>\n",
       "      <td>44926706.0</td>\n",
       "      <td>3.293303e+07</td>\n",
       "    </tr>\n",
       "    <tr>\n",
       "      <th>9</th>\n",
       "      <td>5725482.0</td>\n",
       "      <td>3.360225e+07</td>\n",
       "    </tr>\n",
       "    <tr>\n",
       "      <th>10</th>\n",
       "      <td>175372502.0</td>\n",
       "      <td>1.052084e+08</td>\n",
       "    </tr>\n",
       "    <tr>\n",
       "      <th>11</th>\n",
       "      <td>140980.0</td>\n",
       "      <td>2.697700e+07</td>\n",
       "    </tr>\n",
       "    <tr>\n",
       "      <th>12</th>\n",
       "      <td>7433663.0</td>\n",
       "      <td>3.694833e+07</td>\n",
       "    </tr>\n",
       "    <tr>\n",
       "      <th>13</th>\n",
       "      <td>14009368.0</td>\n",
       "      <td>2.948656e+07</td>\n",
       "    </tr>\n",
       "    <tr>\n",
       "      <th>14</th>\n",
       "      <td>191466556.0</td>\n",
       "      <td>8.245505e+07</td>\n",
       "    </tr>\n",
       "    <tr>\n",
       "      <th>15</th>\n",
       "      <td>10045677.0</td>\n",
       "      <td>4.564814e+07</td>\n",
       "    </tr>\n",
       "    <tr>\n",
       "      <th>16</th>\n",
       "      <td>6857733.0</td>\n",
       "      <td>2.683847e+07</td>\n",
       "    </tr>\n",
       "    <tr>\n",
       "      <th>17</th>\n",
       "      <td>2193982.0</td>\n",
       "      <td>2.878389e+07</td>\n",
       "    </tr>\n",
       "    <tr>\n",
       "      <th>18</th>\n",
       "      <td>89433436.0</td>\n",
       "      <td>6.405159e+07</td>\n",
       "    </tr>\n",
       "    <tr>\n",
       "      <th>19</th>\n",
       "      <td>10125417.0</td>\n",
       "      <td>2.771314e+07</td>\n",
       "    </tr>\n",
       "    <tr>\n",
       "      <th>20</th>\n",
       "      <td>2443487.0</td>\n",
       "      <td>2.674713e+07</td>\n",
       "    </tr>\n",
       "    <tr>\n",
       "      <th>21</th>\n",
       "      <td>3178542.0</td>\n",
       "      <td>2.675549e+07</td>\n",
       "    </tr>\n",
       "    <tr>\n",
       "      <th>22</th>\n",
       "      <td>20205757.0</td>\n",
       "      <td>2.824851e+07</td>\n",
       "    </tr>\n",
       "    <tr>\n",
       "      <th>23</th>\n",
       "      <td>92649419.0</td>\n",
       "      <td>1.011931e+08</td>\n",
       "    </tr>\n",
       "    <tr>\n",
       "      <th>24</th>\n",
       "      <td>5000000.0</td>\n",
       "      <td>2.848274e+07</td>\n",
       "    </tr>\n",
       "    <tr>\n",
       "      <th>25</th>\n",
       "      <td>105983.0</td>\n",
       "      <td>3.360225e+07</td>\n",
       "    </tr>\n",
       "    <tr>\n",
       "      <th>26</th>\n",
       "      <td>6326051.0</td>\n",
       "      <td>2.992155e+07</td>\n",
       "    </tr>\n",
       "    <tr>\n",
       "      <th>27</th>\n",
       "      <td>34622504.0</td>\n",
       "      <td>3.293303e+07</td>\n",
       "    </tr>\n",
       "    <tr>\n",
       "      <th>28</th>\n",
       "      <td>141069860.0</td>\n",
       "      <td>6.973993e+07</td>\n",
       "    </tr>\n",
       "    <tr>\n",
       "      <th>29</th>\n",
       "      <td>3534313.0</td>\n",
       "      <td>4.698657e+07</td>\n",
       "    </tr>\n",
       "  </tbody>\n",
       "</table>\n",
       "</div>"
      ],
      "text/plain": [
       "         Actual     Predicted\n",
       "0    13818181.0  3.862137e+07\n",
       "1    39976235.0  3.962519e+07\n",
       "2     4412203.0  3.192920e+07\n",
       "3     4376819.0  2.838236e+07\n",
       "4   113100873.0  7.174758e+07\n",
       "5   147332697.0  1.922065e+08\n",
       "6    55003135.0  5.434796e+07\n",
       "7   158964610.0  1.108967e+08\n",
       "8    44926706.0  3.293303e+07\n",
       "9     5725482.0  3.360225e+07\n",
       "10  175372502.0  1.052084e+08\n",
       "11     140980.0  2.697700e+07\n",
       "12    7433663.0  3.694833e+07\n",
       "13   14009368.0  2.948656e+07\n",
       "14  191466556.0  8.245505e+07\n",
       "15   10045677.0  4.564814e+07\n",
       "16    6857733.0  2.683847e+07\n",
       "17    2193982.0  2.878389e+07\n",
       "18   89433436.0  6.405159e+07\n",
       "19   10125417.0  2.771314e+07\n",
       "20    2443487.0  2.674713e+07\n",
       "21    3178542.0  2.675549e+07\n",
       "22   20205757.0  2.824851e+07\n",
       "23   92649419.0  1.011931e+08\n",
       "24    5000000.0  2.848274e+07\n",
       "25     105983.0  3.360225e+07\n",
       "26    6326051.0  2.992155e+07\n",
       "27   34622504.0  3.293303e+07\n",
       "28  141069860.0  6.973993e+07\n",
       "29    3534313.0  4.698657e+07"
      ]
     },
     "execution_count": 80,
     "metadata": {},
     "output_type": "execute_result"
    }
   ],
   "source": [
    "# Create a dataframe comparing the actual and predicted values of y.\n",
    "\n",
    "data = pd.DataFrame({'Actual': y_test_4.flatten(), 'Predicted': y_predicted_4.flatten()})\n",
    "data.head(30)"
   ]
  },
  {
   "cell_type": "code",
   "execution_count": 81,
   "id": "98904dd7",
   "metadata": {},
   "outputs": [],
   "source": [
    "# The predicted values are relatively extremely far from the actual values"
   ]
  },
  {
   "cell_type": "markdown",
   "id": "7ca34d1f",
   "metadata": {},
   "source": [
    "### Summary"
   ]
  },
  {
   "cell_type": "code",
   "execution_count": 82,
   "id": "e8188d00",
   "metadata": {},
   "outputs": [],
   "source": [
    "# By removing outliers, in this case would make my linear regression model scores relatively low  \n",
    "# I've decided not to remove outliers from my models \n",
    "# It avoids the risk of potential bias if I do end removing the outliers\n",
    "# Since using a Linear Regression model for my variables is not strong, I'd have to use another model that's non-linear\n",
    "# I can also consider using other types of models besides linear regression for measuring relationships between gross figure and votes. Same for budget "
   ]
  }
 ],
 "metadata": {
  "kernelspec": {
   "display_name": "Python 3 (ipykernel)",
   "language": "python",
   "name": "python3"
  },
  "language_info": {
   "codemirror_mode": {
    "name": "ipython",
    "version": 3
   },
   "file_extension": ".py",
   "mimetype": "text/x-python",
   "name": "python",
   "nbconvert_exporter": "python",
   "pygments_lexer": "ipython3",
   "version": "3.9.7"
  }
 },
 "nbformat": 4,
 "nbformat_minor": 5
}
